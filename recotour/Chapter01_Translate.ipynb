{
 "cells": [
  {
   "cell_type": "markdown",
   "metadata": {},
   "source": [
    "## Chapter 1\n",
    "\n",
    "### 1.1 Data Translation\n",
    "\n",
    "As you might have noticed by having a quick look to the dataset, some columns are in Japanese. Therefore, we need to translate those columns. For that task we are provided with the file `CAPSULE_TEXT_Translation.xlsx` and you will also need the file `prefecture.txt` that I include in this repo.\n",
    "\n",
    "Let's start by defining some paths and file names:"
   ]
  },
  {
   "cell_type": "code",
   "execution_count": 1,
   "metadata": {},
   "outputs": [],
   "source": [
    "import os\n",
    "import pandas as pd\n",
    "\n",
    "input_dir = \"../datasets/Ponpare/data\"\n",
    "output_dir = \"../datasets/Ponpare/data_translated\"\n",
    "documentation_dir = \"../datasets/Ponpare/data/documentation\"\n",
    "\n",
    "translate_fname = \"CAPSULE_TEXT_Translation.xlsx\"\n",
    "prefecture_fname = \"prefecture.txt\""
   ]
  },
  {
   "cell_type": "code",
   "execution_count": 2,
   "metadata": {},
   "outputs": [
    {
     "data": {
      "text/html": [
       "<div>\n",
       "<style scoped>\n",
       "    .dataframe tbody tr th:only-of-type {\n",
       "        vertical-align: middle;\n",
       "    }\n",
       "\n",
       "    .dataframe tbody tr th {\n",
       "        vertical-align: top;\n",
       "    }\n",
       "\n",
       "    .dataframe thead th {\n",
       "        text-align: right;\n",
       "    }\n",
       "</style>\n",
       "<table border=\"1\" class=\"dataframe\">\n",
       "  <thead>\n",
       "    <tr style=\"text-align: right;\">\n",
       "      <th></th>\n",
       "      <th>Unnamed: 0</th>\n",
       "      <th>Frequency</th>\n",
       "      <th>CAPSULE_TEXT</th>\n",
       "      <th>English Translation</th>\n",
       "      <th>Unnamed: 4</th>\n",
       "      <th>Frequency.1</th>\n",
       "      <th>CAPSULE_TEXT.1</th>\n",
       "      <th>English Translation.1</th>\n",
       "    </tr>\n",
       "  </thead>\n",
       "  <tbody>\n",
       "    <tr>\n",
       "      <th>0</th>\n",
       "      <td>NaN</td>\n",
       "      <td>5930</td>\n",
       "      <td>宅配</td>\n",
       "      <td>Delivery service</td>\n",
       "      <td>NaN</td>\n",
       "      <td>5930.0</td>\n",
       "      <td>宅配</td>\n",
       "      <td>Delivery service</td>\n",
       "    </tr>\n",
       "    <tr>\n",
       "      <th>1</th>\n",
       "      <td>NaN</td>\n",
       "      <td>3713</td>\n",
       "      <td>グルメ</td>\n",
       "      <td>Food</td>\n",
       "      <td>NaN</td>\n",
       "      <td>3713.0</td>\n",
       "      <td>グルメ</td>\n",
       "      <td>Food</td>\n",
       "    </tr>\n",
       "    <tr>\n",
       "      <th>2</th>\n",
       "      <td>NaN</td>\n",
       "      <td>1976</td>\n",
       "      <td>ホテル</td>\n",
       "      <td>Hotel</td>\n",
       "      <td>NaN</td>\n",
       "      <td>3629.0</td>\n",
       "      <td>ホテル・旅館</td>\n",
       "      <td>Hotel and Japanese hotel</td>\n",
       "    </tr>\n",
       "    <tr>\n",
       "      <th>3</th>\n",
       "      <td>NaN</td>\n",
       "      <td>1461</td>\n",
       "      <td>ヘアサロン</td>\n",
       "      <td>Hair salon</td>\n",
       "      <td>NaN</td>\n",
       "      <td>1461.0</td>\n",
       "      <td>ヘアサロン</td>\n",
       "      <td>Hair salon</td>\n",
       "    </tr>\n",
       "    <tr>\n",
       "      <th>4</th>\n",
       "      <td>NaN</td>\n",
       "      <td>1375</td>\n",
       "      <td>旅館</td>\n",
       "      <td>Japanese hotel</td>\n",
       "      <td>NaN</td>\n",
       "      <td>1110.0</td>\n",
       "      <td>リラクゼーション</td>\n",
       "      <td>Relaxation</td>\n",
       "    </tr>\n",
       "  </tbody>\n",
       "</table>\n",
       "</div>"
      ],
      "text/plain": [
       "   Unnamed: 0  Frequency CAPSULE_TEXT English Translation  Unnamed: 4  \\\n",
       "0         NaN       5930           宅配    Delivery service         NaN   \n",
       "1         NaN       3713          グルメ                Food         NaN   \n",
       "2         NaN       1976          ホテル               Hotel         NaN   \n",
       "3         NaN       1461        ヘアサロン          Hair salon         NaN   \n",
       "4         NaN       1375           旅館      Japanese hotel         NaN   \n",
       "\n",
       "   Frequency.1 CAPSULE_TEXT.1     English Translation.1  \n",
       "0       5930.0             宅配          Delivery service  \n",
       "1       3713.0            グルメ                      Food  \n",
       "2       3629.0         ホテル・旅館  Hotel and Japanese hotel  \n",
       "3       1461.0          ヘアサロン                Hair salon  \n",
       "4       1110.0       リラクゼーション                Relaxation  "
      ]
     },
     "execution_count": 2,
     "metadata": {},
     "output_type": "execute_result"
    }
   ],
   "source": [
    "translate_df = pd.read_excel(os.path.join(documentation_dir,translate_fname) ,skiprows=5)\n",
    "\n",
    "translate_df.head()"
   ]
  },
  {
   "cell_type": "code",
   "execution_count": 3,
   "metadata": {},
   "outputs": [],
   "source": [
    "# Grab the capsule and english columns\n",
    "caps_col_idx = [i for i,c in enumerate(translate_df.columns) if 'CAPSULE' in c]\n",
    "engl_col_idx = [i for i,c in enumerate(translate_df.columns) if 'English' in c]\n",
    "\n",
    "capsule_text_df = translate_df.iloc[:, [caps_col_idx[0],engl_col_idx[0]]]\n",
    "capsule_text_df.columns = ['capsule_text', 'english_translation']\n",
    "\n",
    "genre_name_df = translate_df.iloc[:, [caps_col_idx[1],engl_col_idx[1]]]\n",
    "genre_name_df.columns = ['genre_name', 'english_translation']\n",
    "genre_name_df = genre_name_df[~genre_name_df.genre_name.isna()]"
   ]
  },
  {
   "cell_type": "code",
   "execution_count": 4,
   "metadata": {},
   "outputs": [
    {
     "data": {
      "text/html": [
       "<div>\n",
       "<style scoped>\n",
       "    .dataframe tbody tr th:only-of-type {\n",
       "        vertical-align: middle;\n",
       "    }\n",
       "\n",
       "    .dataframe tbody tr th {\n",
       "        vertical-align: top;\n",
       "    }\n",
       "\n",
       "    .dataframe thead th {\n",
       "        text-align: right;\n",
       "    }\n",
       "</style>\n",
       "<table border=\"1\" class=\"dataframe\">\n",
       "  <thead>\n",
       "    <tr style=\"text-align: right;\">\n",
       "      <th></th>\n",
       "      <th>capsule_text</th>\n",
       "      <th>english_translation</th>\n",
       "    </tr>\n",
       "  </thead>\n",
       "  <tbody>\n",
       "    <tr>\n",
       "      <th>0</th>\n",
       "      <td>宅配</td>\n",
       "      <td>Delivery service</td>\n",
       "    </tr>\n",
       "    <tr>\n",
       "      <th>1</th>\n",
       "      <td>グルメ</td>\n",
       "      <td>Food</td>\n",
       "    </tr>\n",
       "    <tr>\n",
       "      <th>2</th>\n",
       "      <td>ホテル</td>\n",
       "      <td>Hotel</td>\n",
       "    </tr>\n",
       "    <tr>\n",
       "      <th>3</th>\n",
       "      <td>ヘアサロン</td>\n",
       "      <td>Hair salon</td>\n",
       "    </tr>\n",
       "    <tr>\n",
       "      <th>4</th>\n",
       "      <td>旅館</td>\n",
       "      <td>Japanese hotel</td>\n",
       "    </tr>\n",
       "  </tbody>\n",
       "</table>\n",
       "</div>"
      ],
      "text/plain": [
       "  capsule_text english_translation\n",
       "0           宅配    Delivery service\n",
       "1          グルメ                Food\n",
       "2          ホテル               Hotel\n",
       "3        ヘアサロン          Hair salon\n",
       "4           旅館      Japanese hotel"
      ]
     },
     "execution_count": 4,
     "metadata": {},
     "output_type": "execute_result"
    }
   ],
   "source": [
    "capsule_text_df.head()"
   ]
  },
  {
   "cell_type": "code",
   "execution_count": 5,
   "metadata": {},
   "outputs": [
    {
     "data": {
      "text/html": [
       "<div>\n",
       "<style scoped>\n",
       "    .dataframe tbody tr th:only-of-type {\n",
       "        vertical-align: middle;\n",
       "    }\n",
       "\n",
       "    .dataframe tbody tr th {\n",
       "        vertical-align: top;\n",
       "    }\n",
       "\n",
       "    .dataframe thead th {\n",
       "        text-align: right;\n",
       "    }\n",
       "</style>\n",
       "<table border=\"1\" class=\"dataframe\">\n",
       "  <thead>\n",
       "    <tr style=\"text-align: right;\">\n",
       "      <th></th>\n",
       "      <th>genre_name</th>\n",
       "      <th>english_translation</th>\n",
       "    </tr>\n",
       "  </thead>\n",
       "  <tbody>\n",
       "    <tr>\n",
       "      <th>0</th>\n",
       "      <td>宅配</td>\n",
       "      <td>Delivery service</td>\n",
       "    </tr>\n",
       "    <tr>\n",
       "      <th>1</th>\n",
       "      <td>グルメ</td>\n",
       "      <td>Food</td>\n",
       "    </tr>\n",
       "    <tr>\n",
       "      <th>2</th>\n",
       "      <td>ホテル・旅館</td>\n",
       "      <td>Hotel and Japanese hotel</td>\n",
       "    </tr>\n",
       "    <tr>\n",
       "      <th>3</th>\n",
       "      <td>ヘアサロン</td>\n",
       "      <td>Hair salon</td>\n",
       "    </tr>\n",
       "    <tr>\n",
       "      <th>4</th>\n",
       "      <td>リラクゼーション</td>\n",
       "      <td>Relaxation</td>\n",
       "    </tr>\n",
       "  </tbody>\n",
       "</table>\n",
       "</div>"
      ],
      "text/plain": [
       "  genre_name       english_translation\n",
       "0         宅配          Delivery service\n",
       "1        グルメ                      Food\n",
       "2     ホテル・旅館  Hotel and Japanese hotel\n",
       "3      ヘアサロン                Hair salon\n",
       "4   リラクゼーション                Relaxation"
      ]
     },
     "execution_count": 5,
     "metadata": {},
     "output_type": "execute_result"
    }
   ],
   "source": [
    "genre_name_df.head()"
   ]
  },
  {
   "cell_type": "code",
   "execution_count": 6,
   "metadata": {},
   "outputs": [
    {
     "name": "stdout",
     "output_type": "stream",
     "text": [
      "{'宅配': 'Delivery service', 'グルメ': 'Food', 'ホテル': 'Hotel', 'ヘアサロン': 'Hair salon', '旅館': 'Japanese hotel', 'リラクゼーション': 'Relaxation', 'その他': 'Other', 'エステ': 'Spa', 'レジャー': 'Leisure', 'レッスン': 'Lesson', 'ネイル・アイ': 'Nail and eye salon', 'ギフトカード': 'Gift card', 'ペンション': 'Resort inn', '民宿': 'Japanse guest house', '健康・医療': 'Health and medical', 'WEBサービス': 'Web service', 'ビューティー': 'Beauty', '貸別荘': 'Vacation rental', 'ロッジ': 'Lodge', '通学レッスン': 'Class', '通信講座': 'Correspondence course', 'ゲストハウス': 'Guest house', '公共の宿': 'Public hotel', 'イベント': 'Event', 'ビューティ': 'Beauty'}\n"
     ]
    }
   ],
   "source": [
    "# create capsule_text and genre_name dictionaries (let's all thank python3, literal strings are unicode by default)\n",
    "capsule_text_dict = dict(zip(capsule_text_df.capsule_text, capsule_text_df.english_translation))\n",
    "genre_name_dict = dict(zip(genre_name_df.genre_name, genre_name_df.english_translation))\n",
    "\n",
    "print(capsule_text_dict)"
   ]
  },
  {
   "cell_type": "code",
   "execution_count": 7,
   "metadata": {},
   "outputs": [
    {
     "name": "stdout",
     "output_type": "stream",
     "text": [
      "{'関西': 'kansai', '関東': 'kanto', '九州・沖縄': 'kyusyu', '四国': 'shikoku', '中国': 'tyugoku', '東海': 'tokai', '東北': 'tohoku', '北海道': 'hokkaido', '北信越': 'hokushinetu', 'キタ': 'osaka_kita', 'ミナミ他': 'osaka_minami', '愛知': 'aichi', '愛媛': 'ehime', '茨城': 'ibaraki', '横浜': 'kanagawa_yokohama', '岡山': 'okayama', '沖縄': 'okinawa', '岩手': 'iwate', '岐阜': 'gihu', '宮崎': 'miyazaki', '宮城': 'miyagi', '京都': 'kyoto', '銀座・新橋・東京・上野': 'tokyo_ginza', '熊本': 'kumamoto', '群馬': 'gunma', '恵比寿・目黒・品川': 'tokyo_ebisu', '広島': 'hiroshima', '香川': 'kagawa', '高知': 'kouchi', '佐賀': 'saga', '埼玉': 'saitama', '三重': 'mie', '山形': 'yamagata', '山口': 'yamaguchi', '山梨': 'yamanashi', '滋賀': 'shiga', '鹿児島': 'kagoshima', '秋田': 'akita', '渋谷・青山・自由が丘': 'tokyo_shibuya', '新潟': 'niigata', '新宿・高田馬場・中野・吉祥寺': 'tokyo_shinjuku', '青森': 'aomori', '静岡': 'shizuoka', '石川': 'ishikawa', '赤坂・六本木・麻布': 'tokyo_akasaka', '千葉': 'chiba', '川崎・湘南・箱根他': 'kanagawa_kawasaki', '大分': 'ooita', '池袋・神楽坂・赤羽': 'tokyo_ikebukuro', '長崎': 'nagasaki', '長野': 'nagano', '鳥取': 'tottori', '島根': 'shimane', '徳島': 'tokushima', '栃木': 'tochigi', '奈良': 'nara', '富山': 'toyama', '福井': 'hukui', '福岡': 'hukuoka', '福島': 'hukushima', '兵庫': 'hyogo', '立川・町田・八王子他': 'tokyo_tachikawa', '和歌山': 'wakayama', '愛知県': 'aichi', '愛媛県': 'ehime', '茨城県': 'ibaraki', '岡山県': 'okayama', '沖縄県': 'okinawa', '岩手県': 'iwate', '岐阜県': 'gihu', '宮崎県': 'miyazaki', '宮城県': 'miyagi', '京都府': 'kyoto', '熊本県': 'kumamoto', '群馬県': 'gunma', '広島県': 'hiroshima', '香川県': 'kagawa', '高知県': 'kouchi', '佐賀県': 'saga', '埼玉県': 'saitama', '三重県': 'mie', '山形県': 'yamagata', '山口県': 'yamaguchi', '山梨県': 'yamanashi', '滋賀県': 'shiga', '鹿児島県': 'kagoshima', '秋田県': 'akita', '新潟県': 'niigata', '神奈川県': 'kanagawa', '青森県': 'aomori', '静岡県': 'shizuoka', '石川県': 'ishikawa', '千葉県': 'chiba', '大阪府': 'osaka', '大分県': 'ooita', '長崎県': 'nagasaki', '長野県': 'nagano', '鳥取県': 'tottori', '島根県': 'shimane', '東京都': 'tokyo', '徳島県': 'tokushima', '栃木県': 'tochigi', '奈良県': 'nara', '富山県': 'toyama', '福井県': 'hukui', '福岡県': 'hukuoka', '福島県': 'hukushima', '兵庫県': 'hyogo', '和歌山県': 'wakayama'}\n"
     ]
    }
   ],
   "source": [
    "# create prefecture dictionary for region/area translation\n",
    "prefecture_dict = {}\n",
    "prefecture_path = os.path.join(input_dir,prefecture_fname)\n",
    "with open(prefecture_path, \"r\") as f:\n",
    "    stuff = f.readlines()\n",
    "    for line in stuff:\n",
    "        line = line.rstrip().split(\",\")\n",
    "        prefecture_dict[line[0]] = line[1]\n",
    "print(prefecture_dict) "
   ]
  },
  {
   "cell_type": "code",
   "execution_count": 8,
   "metadata": {},
   "outputs": [
    {
     "name": "stdout",
     "output_type": "stream",
     "text": [
      "['user_list.csv', 'coupon_list_train.csv', 'coupon_detail_train.csv', 'coupon_list_test.csv', 'prefecture_locations.csv', 'coupon_area_train.csv', 'coupon_visit_train.csv', 'coupon_area_test.csv', 'sample_submission.csv']\n"
     ]
    }
   ],
   "source": [
    "csv_files = []\n",
    "for _,_,files in os.walk(input_dir):\n",
    "    for file in files:\n",
    "        if file.endswith(\".csv\"):\n",
    "            csv_files.append(file)\n",
    "\n",
    "print(csv_files)"
   ]
  },
  {
   "cell_type": "code",
   "execution_count": 9,
   "metadata": {},
   "outputs": [],
   "source": [
    "# manually define a dictionary with the columns to replace and the dictionary to replace them\n",
    "replace_cols = {\n",
    "    'capsule_text':'capsule_text_dict',\n",
    "    'genre_name':'genre_name_dict',\n",
    "    'pref_name':'prefecture_dict',\n",
    "    'large_area_name':'prefecture_dict',\n",
    "    'ken_name':'prefecture_dict',\n",
    "    'small_area_name':'prefecture_dict'\n",
    "    }"
   ]
  },
  {
   "cell_type": "code",
   "execution_count": 10,
   "metadata": {},
   "outputs": [
    {
     "name": "stdout",
     "output_type": "stream",
     "text": [
      "INFO: translating ../datasets/Ponpare/data/user_list.csv into ../datasets/Ponpare/data_translated/user_list.csv\n",
      "INFO: translating ../datasets/Ponpare/data/coupon_list_train.csv into ../datasets/Ponpare/data_translated/coupon_list_train.csv\n",
      "INFO: translating ../datasets/Ponpare/data/coupon_detail_train.csv into ../datasets/Ponpare/data_translated/coupon_detail_train.csv\n",
      "INFO: translating ../datasets/Ponpare/data/coupon_list_test.csv into ../datasets/Ponpare/data_translated/coupon_list_test.csv\n",
      "INFO: translating ../datasets/Ponpare/data/coupon_area_train.csv into ../datasets/Ponpare/data_translated/coupon_area_train.csv\n",
      "INFO: translating ../datasets/Ponpare/data/coupon_visit_train.csv into ../datasets/Ponpare/data_translated/coupon_visit_train.csv\n",
      "INFO: translating ../datasets/Ponpare/data/coupon_area_test.csv into ../datasets/Ponpare/data_translated/coupon_area_test.csv\n"
     ]
    }
   ],
   "source": [
    "# Translate\n",
    "csv_files = [c for c in csv_files if c not in ['prefecture_locations.csv','sample_submission.csv']]\n",
    "for f in csv_files:\n",
    "    print(\"INFO: translating {} into {}\".format(os.path.join(input_dir,f), os.path.join(output_dir,f)))\n",
    "    tmp_df = pd.read_csv(os.path.join(input_dir,f))\n",
    "    tmp_df.columns = [c.lower() for c in tmp_df]\n",
    "\n",
    "    for col in tmp_df.columns:\n",
    "        if col in replace_cols.keys():\n",
    "            replace_dict = eval(replace_cols[col])\n",
    "            tmp_df[col].replace(replace_dict, inplace=True)\n",
    "\n",
    "    tmp_df.to_csv(os.path.join(output_dir,f), index=False)"
   ]
  },
  {
   "cell_type": "markdown",
   "metadata": {},
   "source": [
    "After running this code, the translated data is stored in `../datasets/Ponpare/data_translated/`. We are now ready to split the data into train/validation/test and start with the feature engineering."
   ]
  }
 ],
 "metadata": {
  "kernelspec": {
   "display_name": "Python 3",
   "language": "python",
   "name": "python3"
  },
  "language_info": {
   "codemirror_mode": {
    "name": "ipython",
    "version": 3
   },
   "file_extension": ".py",
   "mimetype": "text/x-python",
   "name": "python",
   "nbconvert_exporter": "python",
   "pygments_lexer": "ipython3",
   "version": "3.6.5"
  }
 },
 "nbformat": 4,
 "nbformat_minor": 2
}
