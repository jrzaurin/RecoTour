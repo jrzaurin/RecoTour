{
 "cells": [
  {
   "cell_type": "markdown",
   "metadata": {},
   "source": [
    "# Chapter 1\n",
    "\n",
    "## 1.1 Introduction\n",
    "\n",
    "The content in this `Amazon` directory is going to follow a similar (if not identical) approach to that in the `Ponpare` dir. This is, there will be a series of jupyter notebooks with a more \"explanation-oriented\" code and then the corresponding companion python scripts. \n",
    "\n",
    "Here I will concentrate mostly on matrix factorization algorithms and I will use the [Amazon Revies dataset](https://arxiv.org/pdf/1602.01585.pdf) [1] [2] in particular 5-core Movies and TV reviews. \n",
    "\n",
    "\n",
    "Using that dataset I will implement the [Xiangnan He, et al. 2016](https://www.comp.nus.edu.sg/~xiangnan/papers/ncf.pdf) paper [3], *Neural Collaborative Filtering*.\n",
    "\n",
    "\n",
    "## 1.2 Data Preparation\n",
    "\n",
    "An implementation of Xiangnan He's paper in Pytorch, Gluon and Keras (original) can be found [here](https://github.com/jrzaurin/neural_cf), along with an explanation of the algorithm. In this repo I will use the Pytorch implementation and I will explain again the main components. \n",
    "\n",
    "The problem, as framed in the paper, consists in predicting whether a user \"interacted\" with an item (1) or not (0) (i.e. ignoring the actual rating) using implicit negative feedback. The success metrics are the Hit Ratio (HR) and [Normalized Discounted Cumulative Gain (NDCG)](https://en.wikipedia.org/wiki/Discounted_cumulative_gain) at K, with K=10 in this excercise. For more details on the problem formulation I recommend reading the paper and having a look to the code here.\n",
    "\n",
    "To start with simply download the dataset\n",
    "\n",
    "    wget http://snap.stanford.edu/data/amazon/productGraph/categoryFiles/reviews_Movies_and_TV_5.json.gz\n",
    " \n",
    "to your `workdir`. In my case I place all the datasets I use for this RecoTour repo at: \n",
    "\n",
    "    /home/ubuntu/projects/RecoTour/datasets/\n",
    "    \n",
    "There I have Ponpare, Amazon, etc...\n",
    "\n",
    "Let's now move to the code"
   ]
  },
  {
   "cell_type": "code",
   "execution_count": 1,
   "metadata": {},
   "outputs": [],
   "source": [
    "import numpy as np\n",
    "import pandas as pd\n",
    "import gzip\n",
    "import pickle\n",
    "import argparse\n",
    "import scipy.sparse as sp\n",
    "\n",
    "from time import time\n",
    "from pathlib import Path\n",
    "from scipy.sparse import save_npz\n",
    "from joblib import Parallel, delayed"
   ]
  },
  {
   "cell_type": "code",
   "execution_count": 2,
   "metadata": {},
   "outputs": [],
   "source": [
    "DATA_PATH = Path(\"/home/ubuntu/projects/RecoTour/datasets/Amazon\")\n",
    "reviews = \"reviews_Movies_and_TV_5.json.gz\""
   ]
  },
  {
   "cell_type": "code",
   "execution_count": 3,
   "metadata": {},
   "outputs": [
    {
     "data": {
      "text/html": [
       "<div>\n",
       "<style scoped>\n",
       "    .dataframe tbody tr th:only-of-type {\n",
       "        vertical-align: middle;\n",
       "    }\n",
       "\n",
       "    .dataframe tbody tr th {\n",
       "        vertical-align: top;\n",
       "    }\n",
       "\n",
       "    .dataframe thead th {\n",
       "        text-align: right;\n",
       "    }\n",
       "</style>\n",
       "<table border=\"1\" class=\"dataframe\">\n",
       "  <thead>\n",
       "    <tr style=\"text-align: right;\">\n",
       "      <th></th>\n",
       "      <th>user</th>\n",
       "      <th>item</th>\n",
       "      <th>timestamp</th>\n",
       "      <th>rating</th>\n",
       "    </tr>\n",
       "  </thead>\n",
       "  <tbody>\n",
       "    <tr>\n",
       "      <th>0</th>\n",
       "      <td>ADZPIG9QOCDG5</td>\n",
       "      <td>0005019281</td>\n",
       "      <td>1203984000</td>\n",
       "      <td>4</td>\n",
       "    </tr>\n",
       "    <tr>\n",
       "      <th>1</th>\n",
       "      <td>A35947ZP82G7JH</td>\n",
       "      <td>0005019281</td>\n",
       "      <td>1388361600</td>\n",
       "      <td>3</td>\n",
       "    </tr>\n",
       "    <tr>\n",
       "      <th>2</th>\n",
       "      <td>A3UORV8A9D5L2E</td>\n",
       "      <td>0005019281</td>\n",
       "      <td>1388361600</td>\n",
       "      <td>3</td>\n",
       "    </tr>\n",
       "    <tr>\n",
       "      <th>3</th>\n",
       "      <td>A1VKW06X1O2X7V</td>\n",
       "      <td>0005019281</td>\n",
       "      <td>1202860800</td>\n",
       "      <td>5</td>\n",
       "    </tr>\n",
       "    <tr>\n",
       "      <th>4</th>\n",
       "      <td>A3R27T4HADWFFJ</td>\n",
       "      <td>0005019281</td>\n",
       "      <td>1387670400</td>\n",
       "      <td>4</td>\n",
       "    </tr>\n",
       "  </tbody>\n",
       "</table>\n",
       "</div>"
      ],
      "text/plain": [
       "             user        item   timestamp  rating\n",
       "0   ADZPIG9QOCDG5  0005019281  1203984000       4\n",
       "1  A35947ZP82G7JH  0005019281  1388361600       3\n",
       "2  A3UORV8A9D5L2E  0005019281  1388361600       3\n",
       "3  A1VKW06X1O2X7V  0005019281  1202860800       5\n",
       "4  A3R27T4HADWFFJ  0005019281  1387670400       4"
      ]
     },
     "execution_count": 3,
     "metadata": {},
     "output_type": "execute_result"
    }
   ],
   "source": [
    "df = pd.read_json(DATA_PATH/reviews, lines=True)\n",
    "keep_cols = ['reviewerID', 'asin', 'unixReviewTime', 'overall']\n",
    "new_colnames = ['user', 'item', 'timestamp', 'rating']\n",
    "df = df[keep_cols]\n",
    "df.columns = new_colnames\n",
    "df.head()"
   ]
  },
  {
   "cell_type": "code",
   "execution_count": 4,
   "metadata": {},
   "outputs": [
    {
     "data": {
      "text/plain": [
       "5    906608\n",
       "4    382994\n",
       "3    201302\n",
       "1    104219\n",
       "2    102410\n",
       "Name: rating, dtype: int64"
      ]
     },
     "execution_count": 4,
     "metadata": {},
     "output_type": "execute_result"
    }
   ],
   "source": [
    "df.rating.value_counts()"
   ]
  },
  {
   "cell_type": "markdown",
   "metadata": {},
   "source": [
    "a lot of people seem to love the movies they watch. There are more 5s that 1,2,3 and 4s together. "
   ]
  },
  {
   "cell_type": "code",
   "execution_count": 5,
   "metadata": {},
   "outputs": [
    {
     "data": {
      "text/html": [
       "<div>\n",
       "<style scoped>\n",
       "    .dataframe tbody tr th:only-of-type {\n",
       "        vertical-align: middle;\n",
       "    }\n",
       "\n",
       "    .dataframe tbody tr th {\n",
       "        vertical-align: top;\n",
       "    }\n",
       "\n",
       "    .dataframe thead th {\n",
       "        text-align: right;\n",
       "    }\n",
       "</style>\n",
       "<table border=\"1\" class=\"dataframe\">\n",
       "  <thead>\n",
       "    <tr style=\"text-align: right;\">\n",
       "      <th></th>\n",
       "      <th>user</th>\n",
       "      <th>item</th>\n",
       "      <th>rating</th>\n",
       "      <th>rank</th>\n",
       "    </tr>\n",
       "  </thead>\n",
       "  <tbody>\n",
       "    <tr>\n",
       "      <th>0</th>\n",
       "      <td>ADZPIG9QOCDG5</td>\n",
       "      <td>0005019281</td>\n",
       "      <td>4</td>\n",
       "      <td>2.0</td>\n",
       "    </tr>\n",
       "    <tr>\n",
       "      <th>1</th>\n",
       "      <td>A35947ZP82G7JH</td>\n",
       "      <td>0005019281</td>\n",
       "      <td>3</td>\n",
       "      <td>1.0</td>\n",
       "    </tr>\n",
       "    <tr>\n",
       "      <th>2</th>\n",
       "      <td>A3UORV8A9D5L2E</td>\n",
       "      <td>0005019281</td>\n",
       "      <td>3</td>\n",
       "      <td>3.0</td>\n",
       "    </tr>\n",
       "    <tr>\n",
       "      <th>3</th>\n",
       "      <td>A1VKW06X1O2X7V</td>\n",
       "      <td>0005019281</td>\n",
       "      <td>5</td>\n",
       "      <td>1.0</td>\n",
       "    </tr>\n",
       "    <tr>\n",
       "      <th>4</th>\n",
       "      <td>A3R27T4HADWFFJ</td>\n",
       "      <td>0005019281</td>\n",
       "      <td>4</td>\n",
       "      <td>2.0</td>\n",
       "    </tr>\n",
       "  </tbody>\n",
       "</table>\n",
       "</div>"
      ],
      "text/plain": [
       "             user        item  rating  rank\n",
       "0   ADZPIG9QOCDG5  0005019281       4   2.0\n",
       "1  A35947ZP82G7JH  0005019281       3   1.0\n",
       "2  A3UORV8A9D5L2E  0005019281       3   3.0\n",
       "3  A1VKW06X1O2X7V  0005019281       5   1.0\n",
       "4  A3R27T4HADWFFJ  0005019281       4   2.0"
      ]
     },
     "execution_count": 5,
     "metadata": {},
     "output_type": "execute_result"
    }
   ],
   "source": [
    "# (temporal) rank of items bought\n",
    "df['rank'] = df.groupby(\"user\")[\"timestamp\"].rank(ascending=True, method='dense')\n",
    "df.drop(\"timestamp\", axis=1, inplace=True)\n",
    "df.head()"
   ]
  },
  {
   "cell_type": "code",
   "execution_count": 6,
   "metadata": {},
   "outputs": [
    {
     "data": {
      "text/html": [
       "<div>\n",
       "<style scoped>\n",
       "    .dataframe tbody tr th:only-of-type {\n",
       "        vertical-align: middle;\n",
       "    }\n",
       "\n",
       "    .dataframe tbody tr th {\n",
       "        vertical-align: top;\n",
       "    }\n",
       "\n",
       "    .dataframe thead th {\n",
       "        text-align: right;\n",
       "    }\n",
       "</style>\n",
       "<table border=\"1\" class=\"dataframe\">\n",
       "  <thead>\n",
       "    <tr style=\"text-align: right;\">\n",
       "      <th></th>\n",
       "      <th>user</th>\n",
       "      <th>item</th>\n",
       "      <th>rank</th>\n",
       "      <th>rating</th>\n",
       "    </tr>\n",
       "  </thead>\n",
       "  <tbody>\n",
       "    <tr>\n",
       "      <th>0</th>\n",
       "      <td>0</td>\n",
       "      <td>0</td>\n",
       "      <td>2</td>\n",
       "      <td>4</td>\n",
       "    </tr>\n",
       "    <tr>\n",
       "      <th>1</th>\n",
       "      <td>1</td>\n",
       "      <td>0</td>\n",
       "      <td>1</td>\n",
       "      <td>3</td>\n",
       "    </tr>\n",
       "    <tr>\n",
       "      <th>2</th>\n",
       "      <td>2</td>\n",
       "      <td>0</td>\n",
       "      <td>3</td>\n",
       "      <td>3</td>\n",
       "    </tr>\n",
       "    <tr>\n",
       "      <th>3</th>\n",
       "      <td>3</td>\n",
       "      <td>0</td>\n",
       "      <td>1</td>\n",
       "      <td>5</td>\n",
       "    </tr>\n",
       "    <tr>\n",
       "      <th>4</th>\n",
       "      <td>4</td>\n",
       "      <td>0</td>\n",
       "      <td>2</td>\n",
       "      <td>4</td>\n",
       "    </tr>\n",
       "  </tbody>\n",
       "</table>\n",
       "</div>"
      ],
      "text/plain": [
       "   user  item  rank  rating\n",
       "0     0     0     2       4\n",
       "1     1     0     1       3\n",
       "2     2     0     3       3\n",
       "3     3     0     1       5\n",
       "4     4     0     2       4"
      ]
     },
     "execution_count": 6,
     "metadata": {},
     "output_type": "execute_result"
    }
   ],
   "source": [
    "# mapping user and item ids to (continuos) integers\n",
    "user_mappings = {k:v for v,k in enumerate(df.user.unique())}\n",
    "item_mappings = {k:v for v,k in enumerate(df.item.unique())}\n",
    "df['user'] = df['user'].map(user_mappings)\n",
    "df['item'] = df['item'].map(item_mappings)\n",
    "df = df[['user','item','rank','rating']].astype(np.int64)\n",
    "n_users = df.user.nunique()\n",
    "n_items = df.item.nunique()\n",
    "df.head()"
   ]
  },
  {
   "cell_type": "markdown",
   "metadata": {},
   "source": [
    "And now is where the \"proper preparation\" and problem set up begins. We will use the last user rating for testing and all the previous ones for training"
   ]
  },
  {
   "cell_type": "code",
   "execution_count": 7,
   "metadata": {},
   "outputs": [
    {
     "name": "stdout",
     "output_type": "stream",
     "text": [
      "(1573573, 3) (123960, 3)\n"
     ]
    }
   ],
   "source": [
    "dfc = df.copy()\n",
    "dfc.sort_values(['user','rank'], ascending=[True,True], inplace=True)\n",
    "dfc.reset_index(inplace=True, drop=True)\n",
    "\n",
    "# use last ratings for testing and all the previous for training\n",
    "test = dfc.groupby('user').tail(1)\n",
    "train = pd.merge(dfc, test, on=['user','item'],\n",
    "    how='outer', suffixes=('', '_y'))\n",
    "train = train[train.rating_y.isnull()]\n",
    "test = test[['user','item','rating']]\n",
    "train = train[['user','item','rating']]\n",
    "print(train.shape, test.shape)"
   ]
  },
  {
   "cell_type": "markdown",
   "metadata": {},
   "source": [
    "## 1.3 Testing Method\n",
    "\n",
    "During testing, we will use 99 random movies per user that were never rated by that user. The total 100 (1 rated + 99 non rated) will be ranked and our success ranking metrics will be the already mentioned HR@10 and NDCG@10. Later in the notebooks we will reflect a bit about the pros and cons of this set up."
   ]
  },
  {
   "cell_type": "code",
   "execution_count": 8,
   "metadata": {},
   "outputs": [
    {
     "name": "stdout",
     "output_type": "stream",
     "text": [
      "sampling not rated items...\n",
      "sampling took 2.64 min\n"
     ]
    }
   ],
   "source": [
    "# select 99 random movies per user that were never rated by that user\n",
    "all_items = dfc.item.unique()\n",
    "rated_items = (dfc.groupby(\"user\")['item']\n",
    "    .apply(list)\n",
    "    .reset_index()\n",
    "    ).item.tolist()\n",
    "\n",
    "def sample_not_rated(item_list, rseed=1, n=99):\n",
    "    np.random.seed=rseed\n",
    "    return np.random.choice(np.setdiff1d(all_items, item_list), n)\n",
    "\n",
    "print(\"sampling not rated items...\")\n",
    "start = time()\n",
    "non_rated_items = Parallel(n_jobs=4)(delayed(sample_not_rated)(ri) for ri in rated_items)\n",
    "end = time() - start\n",
    "print(\"sampling took {} min\".format(round(end/60,2)))\n",
    "\n",
    "negative = pd.DataFrame({'negative':non_rated_items})\n",
    "negative[['item_n'+str(i) for i in range(99)]] =\\\n",
    "    pd.DataFrame(negative.negative.values.tolist(), index= negative.index)\n",
    "negative.drop('negative', axis=1, inplace=True)\n",
    "negative = negative.stack().reset_index()\n",
    "negative = negative.iloc[:, [0,2]]\n",
    "negative.columns = ['user','item']\n",
    "negative['rating'] = 0\n",
    "assert negative.shape[0] == len(non_rated_items)*99\n",
    "test_negative = (pd.concat([test,negative])\n",
    "    .sort_values('user', ascending=True)\n",
    "    .reset_index(drop=True)\n",
    "    )\n",
    "# Ensuring that the 1st element every 100 is the rated item. This is\n",
    "# fundamental for testing\n",
    "test_negative.sort_values(['user', 'rating'], ascending=[True,False], inplace=True)\n",
    "assert np.all(test_negative.values[0::100][:,2] != 0)"
   ]
  },
  {
   "cell_type": "markdown",
   "metadata": {},
   "source": [
    "Let's make sure we did a good job. Let's pick up a random user and make sure the test set contains 99 items that user never rated."
   ]
  },
  {
   "cell_type": "code",
   "execution_count": 9,
   "metadata": {},
   "outputs": [],
   "source": [
    "user_id = np.random.randint(0, n_users-1)\n",
    "items_rated = test_negative[(test_negative.user==user_id) & (test_negative.rating != 0)]['item'].tolist()\n",
    "items_rated+= train[train.user==user_id]['item'].tolist()\n",
    "items_never_rated = test_negative[(test_negative.user==user_id) & (test_negative.rating == 0)]['item'].tolist()\n",
    "assert len(np.intersect1d(items_rated, items_never_rated)) == 0"
   ]
  },
  {
   "cell_type": "markdown",
   "metadata": {},
   "source": [
    "Let's define a helper function to build a sparse matrix of interactions given a dataframe"
   ]
  },
  {
   "cell_type": "code",
   "execution_count": 10,
   "metadata": {},
   "outputs": [],
   "source": [
    "def array2mtx(interactions):\n",
    "    num_users = interactions[:,0].max()\n",
    "    num_items = interactions[:,1].max()\n",
    "    mat = sp.dok_matrix((num_users+1, num_items+1), dtype=np.float32)\n",
    "    for user, item, rating in interactions:\n",
    "            mat[user, item] = rating\n",
    "    return mat.tocsr()"
   ]
  },
  {
   "cell_type": "code",
   "execution_count": 11,
   "metadata": {},
   "outputs": [
    {
     "name": "stdout",
     "output_type": "stream",
     "text": [
      "saving training set as sparse matrix...\n"
     ]
    }
   ],
   "source": [
    "print(\"saving training set as sparse matrix...\")\n",
    "train_mtx = array2mtx(train.values)"
   ]
  },
  {
   "cell_type": "markdown",
   "metadata": {},
   "source": [
    "and that's it. All the required objects are saved to disk as below and we are ready to experiment"
   ]
  },
  {
   "cell_type": "code",
   "execution_count": 12,
   "metadata": {},
   "outputs": [],
   "source": [
    "# # Save\n",
    "# np.savez(data_path/\"neuralcf_split.npz\", train=train.values, test=test.values,\n",
    "#     test_negative=test_negative.values, negatives=np.array(non_rated_items),\n",
    "#     n_users=n_users, n_items=n_items)\n",
    "\n",
    "# # Save training as sparse matrix\n",
    "# print(\"saving training set as sparse matrix...\")\n",
    "# train_mtx = array2mtx(train.values)\n",
    "# save_npz(data_path/\"neuralcf_train_sparse.npz\", train_mtx)"
   ]
  },
  {
   "cell_type": "markdown",
   "metadata": {},
   "source": [
    "### REFERENCES\n",
    "\n",
    "[1] R. He, J. McAuley. Modeling the visual evolution of fashion trends with one-class collaborative filtering. WWW, 2016\n",
    "\n",
    "[2] J. McAuley, C. Targett, J. Shi, A. van den Hengel. Image-based recommendations on styles and substitutes. SIGIR, 2015\n",
    "\n",
    "[3] Xiangnan He, Lizi Liao, Hanwang Zhang, Liqiang Nie, Xia Hu, Tat-Seng Chua. Neural Collaborative Filtering.  arXiv:1708.05031v2. 2016"
   ]
  }
 ],
 "metadata": {
  "kernelspec": {
   "display_name": "Environment (conda_jrz)",
   "language": "python",
   "name": "conda_jrz"
  },
  "language_info": {
   "codemirror_mode": {
    "name": "ipython",
    "version": 3
   },
   "file_extension": ".py",
   "mimetype": "text/x-python",
   "name": "python",
   "nbconvert_exporter": "python",
   "pygments_lexer": "ipython3",
   "version": "3.6.5"
  }
 },
 "nbformat": 4,
 "nbformat_minor": 2
}
