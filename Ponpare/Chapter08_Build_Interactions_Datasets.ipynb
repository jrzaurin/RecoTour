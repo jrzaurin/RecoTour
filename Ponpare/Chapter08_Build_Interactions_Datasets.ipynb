{
 "cells": [
  {
   "cell_type": "markdown",
   "metadata": {},
   "source": [
    "## Chaper 8\n",
    "\n",
    "Before we move onto using ML approaches to recommend items, we need to build a couple of datasets. \n",
    "\n",
    "### 8.1 Interactions dataframe with a measure of interest \n",
    "\n",
    "We will first create a dataframe with a measure of the interest on a given coupon by a given user. Such measure of interest will be, of course, based on the number of times they have purchased or visited that coupon. "
   ]
  },
  {
   "cell_type": "code",
   "execution_count": 1,
   "metadata": {},
   "outputs": [],
   "source": [
    "import numpy as np\n",
    "import pandas as pd\n",
    "import os\n",
    "import argparse\n",
    "import pickle\n",
    "import matplotlib.pyplot as plt\n",
    "import seaborn as sns\n",
    "\n",
    "%matplotlib inline\n",
    "sns.set()\n",
    "\n",
    "from scipy.sparse import lil_matrix, csr_matrix, save_npz\n",
    "\n",
    "inp_dir = \"../datasets/Ponpare/data_processed\"\n",
    "out_dir = \"../datasets/Ponpare/data_processed\""
   ]
  },
  {
   "cell_type": "markdown",
   "metadata": {},
   "source": [
    "As usual"
   ]
  },
  {
   "cell_type": "code",
   "execution_count": 2,
   "metadata": {},
   "outputs": [],
   "source": [
    "# Interactions\n",
    "df_purchases_train = pd.read_pickle(os.path.join(inp_dir, 'train', 'df_purchases_train.p'))\n",
    "df_visits_train = pd.read_pickle(os.path.join(inp_dir, 'train', 'df_visits_train.p'))\n",
    "df_visits_train.rename(index=str, columns={'view_coupon_id_hash': 'coupon_id_hash'}, inplace=True)\n",
    "\n",
    "# train users and coupons\n",
    "df_coupons_train_feat = pd.read_pickle(os.path.join(inp_dir, 'train', 'df_coupons_train_feat.p'))\n",
    "df_user_train_feat = pd.read_pickle(os.path.join(inp_dir, 'train', 'df_users_train_feat.p'))\n",
    "train_users = df_user_train_feat.user_id_hash.unique()\n",
    "train_coupons = df_coupons_train_feat.coupon_id_hash.unique()\n",
    "\n",
    "# subset activities according to the users and coupons in training\n",
    "df_vtr = df_visits_train[df_visits_train.user_id_hash.isin(train_users) &\n",
    "    df_visits_train.coupon_id_hash.isin(train_coupons)]\n",
    "df_ptr = df_purchases_train[df_purchases_train.user_id_hash.isin(train_users) &\n",
    "    df_purchases_train.coupon_id_hash.isin(train_coupons)]"
   ]
  },
  {
   "cell_type": "markdown",
   "metadata": {},
   "source": [
    "Remember from previous notebooks that we lose one customer (22624 $\\rightarrow$ 22623) than viewed only one coupon that is not among the training coupons and bought another coupon but not during the training period.\n",
    "\n",
    "For purchases it will be easy, *\"interest\"* will be 1."
   ]
  },
  {
   "cell_type": "code",
   "execution_count": 3,
   "metadata": {},
   "outputs": [
    {
     "data": {
      "text/html": [
       "<div>\n",
       "<style scoped>\n",
       "    .dataframe tbody tr th:only-of-type {\n",
       "        vertical-align: middle;\n",
       "    }\n",
       "\n",
       "    .dataframe tbody tr th {\n",
       "        vertical-align: top;\n",
       "    }\n",
       "\n",
       "    .dataframe thead th {\n",
       "        text-align: right;\n",
       "    }\n",
       "</style>\n",
       "<table border=\"1\" class=\"dataframe\">\n",
       "  <thead>\n",
       "    <tr style=\"text-align: right;\">\n",
       "      <th></th>\n",
       "      <th>user_id_hash</th>\n",
       "      <th>coupon_id_hash</th>\n",
       "      <th>days_to_present</th>\n",
       "      <th>interest</th>\n",
       "    </tr>\n",
       "  </thead>\n",
       "  <tbody>\n",
       "    <tr>\n",
       "      <td>0</td>\n",
       "      <td>0000b53e182165208887ba65c079fc21</td>\n",
       "      <td>38beeadfe3f97e640367eddae4a8c1b5</td>\n",
       "      <td>274</td>\n",
       "      <td>1.0</td>\n",
       "    </tr>\n",
       "    <tr>\n",
       "      <td>1</td>\n",
       "      <td>00035b86e6884589ec8d28fbf2fe7757</td>\n",
       "      <td>25a27d420caa1c46a8d3c0572d27868a</td>\n",
       "      <td>86</td>\n",
       "      <td>1.0</td>\n",
       "    </tr>\n",
       "    <tr>\n",
       "      <td>2</td>\n",
       "      <td>0005b1068d5f2b8f2a7c978fcfe1ca06</td>\n",
       "      <td>4a79cd05ecb2bf8672e1d955f5faa7fa</td>\n",
       "      <td>310</td>\n",
       "      <td>1.0</td>\n",
       "    </tr>\n",
       "    <tr>\n",
       "      <td>3</td>\n",
       "      <td>0005b1068d5f2b8f2a7c978fcfe1ca06</td>\n",
       "      <td>f0f66195d527a5a9509e139ed367b879</td>\n",
       "      <td>310</td>\n",
       "      <td>1.0</td>\n",
       "    </tr>\n",
       "    <tr>\n",
       "      <td>4</td>\n",
       "      <td>000cc06982785a19e2a2fdb40b1c9d59</td>\n",
       "      <td>229ff5cc21c8d26615493be7f3b42841</td>\n",
       "      <td>268</td>\n",
       "      <td>1.0</td>\n",
       "    </tr>\n",
       "  </tbody>\n",
       "</table>\n",
       "</div>"
      ],
      "text/plain": [
       "                       user_id_hash                    coupon_id_hash  \\\n",
       "0  0000b53e182165208887ba65c079fc21  38beeadfe3f97e640367eddae4a8c1b5   \n",
       "1  00035b86e6884589ec8d28fbf2fe7757  25a27d420caa1c46a8d3c0572d27868a   \n",
       "2  0005b1068d5f2b8f2a7c978fcfe1ca06  4a79cd05ecb2bf8672e1d955f5faa7fa   \n",
       "3  0005b1068d5f2b8f2a7c978fcfe1ca06  f0f66195d527a5a9509e139ed367b879   \n",
       "4  000cc06982785a19e2a2fdb40b1c9d59  229ff5cc21c8d26615493be7f3b42841   \n",
       "\n",
       "   days_to_present  interest  \n",
       "0              274       1.0  \n",
       "1               86       1.0  \n",
       "2              310       1.0  \n",
       "3              310       1.0  \n",
       "4              268       1.0  "
      ]
     },
     "execution_count": 3,
     "metadata": {},
     "output_type": "execute_result"
    }
   ],
   "source": [
    "# for purchases interest will be 1\n",
    "df_interest_ptr = (df_ptr\n",
    "    .groupby(['user_id_hash','coupon_id_hash'])['days_to_present']\n",
    "    .min()\n",
    "    .reset_index())\n",
    "df_interest_ptr['interest'] = 1.\n",
    "\n",
    "df_interest_ptr.head()"
   ]
  },
  {
   "cell_type": "markdown",
   "metadata": {},
   "source": [
    "Because we have already accounted for all those interactions that ended in a purchase, let's remove them from the visits table"
   ]
  },
  {
   "cell_type": "code",
   "execution_count": 4,
   "metadata": {},
   "outputs": [
    {
     "name": "stderr",
     "output_type": "stream",
     "text": [
      "/home/ubuntu/anaconda3/envs/recotour/lib/python3.6/site-packages/ipykernel/__main__.py:5: SettingWithCopyWarning: \n",
      "A value is trying to be set on a copy of a slice from a DataFrame.\n",
      "Try using .loc[row_indexer,col_indexer] = value instead\n",
      "\n",
      "See the caveats in the documentation: http://pandas.pydata.org/pandas-docs/stable/user_guide/indexing.html#returning-a-view-versus-a-copy\n"
     ]
    }
   ],
   "source": [
    "# remove from the visits table those pairs user-coupon that ended up in purchases\n",
    "activity_hash_p = (df_interest_ptr['user_id_hash'] + \"_\" +\n",
    "    df_interest_ptr['coupon_id_hash']).unique()\n",
    "df_vtr['activity_hash'] = (df_vtr['user_id_hash'] + \"_\" +\n",
    "    df_vtr['coupon_id_hash'])\n",
    "df_vtr = df_vtr[~df_vtr.activity_hash.isin(activity_hash_p)]\n",
    "df_vtr.drop('activity_hash', axis=1, inplace=True)"
   ]
  },
  {
   "cell_type": "markdown",
   "metadata": {},
   "source": [
    "For visits, *\"interest\"* will be calculated with some funcion that will depend on number of visits. Let's first calculate the number of visits"
   ]
  },
  {
   "cell_type": "code",
   "execution_count": 5,
   "metadata": {},
   "outputs": [
    {
     "data": {
      "text/html": [
       "<div>\n",
       "<style scoped>\n",
       "    .dataframe tbody tr th:only-of-type {\n",
       "        vertical-align: middle;\n",
       "    }\n",
       "\n",
       "    .dataframe tbody tr th {\n",
       "        vertical-align: top;\n",
       "    }\n",
       "\n",
       "    .dataframe thead th {\n",
       "        text-align: right;\n",
       "    }\n",
       "</style>\n",
       "<table border=\"1\" class=\"dataframe\">\n",
       "  <thead>\n",
       "    <tr style=\"text-align: right;\">\n",
       "      <th></th>\n",
       "      <th>user_id_hash</th>\n",
       "      <th>coupon_id_hash</th>\n",
       "      <th>views_count</th>\n",
       "      <th>days_to_present</th>\n",
       "      <th>interest</th>\n",
       "    </tr>\n",
       "  </thead>\n",
       "  <tbody>\n",
       "    <tr>\n",
       "      <td>0</td>\n",
       "      <td>0000b53e182165208887ba65c079fc21</td>\n",
       "      <td>0645faa156f34104e6d8910160868f9f</td>\n",
       "      <td>1</td>\n",
       "      <td>182</td>\n",
       "      <td>0.0</td>\n",
       "    </tr>\n",
       "    <tr>\n",
       "      <td>1</td>\n",
       "      <td>0000b53e182165208887ba65c079fc21</td>\n",
       "      <td>18097cd25ab6b7e8eb0481b0e3a3cfd8</td>\n",
       "      <td>1</td>\n",
       "      <td>267</td>\n",
       "      <td>0.0</td>\n",
       "    </tr>\n",
       "    <tr>\n",
       "      <td>2</td>\n",
       "      <td>0000b53e182165208887ba65c079fc21</td>\n",
       "      <td>1b581f2ed53f2f2eafbc1560db640194</td>\n",
       "      <td>1</td>\n",
       "      <td>182</td>\n",
       "      <td>0.0</td>\n",
       "    </tr>\n",
       "    <tr>\n",
       "      <td>3</td>\n",
       "      <td>0000b53e182165208887ba65c079fc21</td>\n",
       "      <td>1d04e76c44c231d5d05dc1634d20fe8c</td>\n",
       "      <td>2</td>\n",
       "      <td>267</td>\n",
       "      <td>0.0</td>\n",
       "    </tr>\n",
       "    <tr>\n",
       "      <td>4</td>\n",
       "      <td>0000b53e182165208887ba65c079fc21</td>\n",
       "      <td>2ab16b8f5aeead6d31dbdb9bd59c41db</td>\n",
       "      <td>2</td>\n",
       "      <td>267</td>\n",
       "      <td>0.0</td>\n",
       "    </tr>\n",
       "  </tbody>\n",
       "</table>\n",
       "</div>"
      ],
      "text/plain": [
       "                       user_id_hash                    coupon_id_hash  \\\n",
       "0  0000b53e182165208887ba65c079fc21  0645faa156f34104e6d8910160868f9f   \n",
       "1  0000b53e182165208887ba65c079fc21  18097cd25ab6b7e8eb0481b0e3a3cfd8   \n",
       "2  0000b53e182165208887ba65c079fc21  1b581f2ed53f2f2eafbc1560db640194   \n",
       "3  0000b53e182165208887ba65c079fc21  1d04e76c44c231d5d05dc1634d20fe8c   \n",
       "4  0000b53e182165208887ba65c079fc21  2ab16b8f5aeead6d31dbdb9bd59c41db   \n",
       "\n",
       "   views_count  days_to_present  interest  \n",
       "0            1              182       0.0  \n",
       "1            1              267       0.0  \n",
       "2            1              182       0.0  \n",
       "3            2              267       0.0  \n",
       "4            2              267       0.0  "
      ]
     },
     "execution_count": 5,
     "metadata": {},
     "output_type": "execute_result"
    }
   ],
   "source": [
    "# for visits will depend on number of visits\n",
    "df_vtr_coupon_views = (df_vtr\n",
    "    .groupby(['user_id_hash','coupon_id_hash'])\n",
    "    .size()\n",
    "    .reset_index())\n",
    "df_vtr_coupon_views.columns = ['user_id_hash','coupon_id_hash','views_count']\n",
    "df_vtr_most_recent_view = (df_vtr\n",
    "    .groupby(['user_id_hash','coupon_id_hash'])['days_to_present']\n",
    "    .min()\n",
    "    .reset_index())\n",
    "df_interest_vtr = pd.merge(df_vtr_coupon_views, df_vtr_most_recent_view,\n",
    "    on=['user_id_hash','coupon_id_hash'])\n",
    "df_interest_vtr['interest'] = 0.\n",
    "df_interest_vtr.head()"
   ]
  },
  {
   "cell_type": "markdown",
   "metadata": {},
   "source": [
    "Now we need to decide which function to use to compute interest based on visits. As has happened a few times already, there is a lot of freedom to do this. Here I will use a sigmoid function and include the code for a \"truncated linear\" one. Please, feel free to experiment with any other function that you might consider adequate. \n",
    "\n",
    "Before moving into visualising the function, let's have a look to the visits distribution"
   ]
  },
  {
   "cell_type": "code",
   "execution_count": 6,
   "metadata": {},
   "outputs": [
    {
     "data": {
      "text/plain": [
       "Text(0.5,1,'Views Count Distribution')"
      ]
     },
     "execution_count": 6,
     "metadata": {},
     "output_type": "execute_result"
    },
    {
     "data": {
      "image/png": "[encoded data removed]",
      "text/plain": [
       "<Figure size 1152x432 with 1 Axes>"
      ]
     },
     "metadata": {},
     "output_type": "display_data"
    }
   ],
   "source": [
    "plt.subplot(1, 2, 1)\n",
    "(df_interest_vtr.views_count).plot.hist(bins=50, figsize=(16, 6), edgecolor = 'white', range = [0, 10])\n",
    "plt.xlabel('views_count', fontsize=14)\n",
    "plt.title('Views Count Distribution', fontsize=14)"
   ]
  },
  {
   "cell_type": "code",
   "execution_count": 7,
   "metadata": {},
   "outputs": [
    {
     "name": "stdout",
     "output_type": "stream",
     "text": [
      "Number of unique views_count values: 65\n"
     ]
    }
   ],
   "source": [
    "print(\"Number of unique views_count values: {}\".format(df_interest_vtr.views_count.nunique()))"
   ]
  },
  {
   "cell_type": "code",
   "execution_count": 8,
   "metadata": {},
   "outputs": [
    {
     "name": "stdout",
     "output_type": "stream",
     "text": [
      "1818528\n"
     ]
    },
    {
     "data": {
      "text/plain": [
       "1     1149969\n",
       "2      180479\n",
       "3       45541\n",
       "4       16338\n",
       "5        7073\n",
       "6        3409\n",
       "7        1846\n",
       "8        1003\n",
       "9         672\n",
       "10        435\n",
       "Name: views_count, dtype: int64"
      ]
     },
     "execution_count": 8,
     "metadata": {},
     "output_type": "execute_result"
    }
   ],
   "source": [
    "#Total number of visits:\n",
    "print(df_interest_vtr.views_count.sum())\n",
    "df_interest_vtr.views_count.value_counts()[:10]"
   ]
  },
  {
   "cell_type": "markdown",
   "metadata": {},
   "source": [
    "So `1149969/1818528 = 0.63`, 63% of the users that visited coupons visited a given coupon only once. With this information in mind, let's define our two *\"interest functions\"*. \n",
    "\n",
    "When it comes to a sigmoid function, there are three parameters we need to define: \n",
    "1. *xmid*: middle point that will defines the change in trend for the S-shaped sigmoid function\n",
    "2. *tau*: parameter that defines the slope around the middle point\n",
    "3. *top*: parameter that defines the maximum value as x tends to infinite\n",
    "\n",
    "For the \"truncated linear\", which is just a combination of two linear functions, we need to define:\n",
    "1. *xmid*: point where the change in slope occurs\n",
    "2. *ylow*: lower y value\n",
    "3. *ymid*: y value where the change in slope occurs\n",
    "4. *ytop*: upper y value\n",
    "\n",
    "Let's visualize how these look"
   ]
  },
  {
   "cell_type": "code",
   "execution_count": 9,
   "metadata": {},
   "outputs": [],
   "source": [
    "def sigmoid(x, xmid, tau, top):\n",
    "    \"\"\"\n",
    "    Sigmoid with upper limit\n",
    "    \"\"\"\n",
    "    return top / (1. + np.exp(-(x-xmid)/tau))\n",
    "\n",
    "\n",
    "def combined_linear(x, xmid, ylow, ymid, ytop):\n",
    "    \"\"\"\n",
    "    Truncated straight lines\n",
    "    \"\"\"\n",
    "    m1 = (ymid-ylow)/(xmid)\n",
    "    b1 = ylow\n",
    "\n",
    "    x2 = np.max(x)\n",
    "    m2 = (ytop-ymid)/(x2-xmid)\n",
    "    b2 = ymid-(m2*xmid)\n",
    "\n",
    "    x1_range = x[np.where(x<=xmid)[0]]\n",
    "    x2_range = x[np.where(x>xmid)[0]]\n",
    "\n",
    "    l1 = m1*x1_range + b1\n",
    "    l2 = m2*x2_range + b2\n",
    "\n",
    "    return np.hstack([l1,l2])\n",
    "\n",
    "\n",
    "def plot_adjustment_func(x, params, xmin=None, xmax=None, func='sigmoid'):\n",
    "\n",
    "    if not xmin: xmin = np.min(x)\n",
    "    if not xmax: xmax = np.max(x)\n",
    "    x = np.sort(x)\n",
    "\n",
    "    if func == 'sigmoid':\n",
    "        Z = sigmoid(x, params['xmid'], params['tau'], params['top'])\n",
    "    elif func == 'linear':\n",
    "        Z = combined_linear(x, params['xmid'], params['ylow'], params['ymid'], params['ytop'])\n",
    "\n",
    "    plt.figure(figsize=(10,5))\n",
    "    plt.plot(x, Z, color='red', lw=1.)\n",
    "    plt.xlim((xmin, xmax))\n",
    "    plt.ylabel(\"views_count\")\n",
    "    plt.ylabel(\"Interest\")\n",
    "    plt.show()"
   ]
  },
  {
   "cell_type": "markdown",
   "metadata": {},
   "source": [
    "Let's first have a look to the modified sigmoid"
   ]
  },
  {
   "cell_type": "code",
   "execution_count": 10,
   "metadata": {},
   "outputs": [
    {
     "data": {
      "image/png": "[encoded data removed]",
      "text/plain": [
       "<Figure size 720x360 with 1 Axes>"
      ]
     },
     "metadata": {},
     "output_type": "display_data"
    }
   ],
   "source": [
    "x = np.arange(0, 20, .01)\n",
    "\n",
    "# This will be the actual parameters I will use\n",
    "params = {'xmid': 3, 'tau': 1, 'top': 0.9} \n",
    "plot_adjustment_func(x, params)"
   ]
  },
  {
   "cell_type": "markdown",
   "metadata": {},
   "source": [
    "And to the combined or \"truncated\" linear"
   ]
  },
  {
   "cell_type": "code",
   "execution_count": 11,
   "metadata": {},
   "outputs": [
    {
     "data": {
      "image/png": "[encoded data removed]",
      "text/plain": [
       "<Figure size 720x360 with 1 Axes>"
      ]
     },
     "metadata": {},
     "output_type": "display_data"
    }
   ],
   "source": [
    "# Let's pick some random parameters\n",
    "params = {'xmid': 3, 'ylow': 0.05, 'ymid': 0.5, 'ytop': 0.9} \n",
    "plot_adjustment_func(x, params, func='linear')"
   ]
  },
  {
   "cell_type": "markdown",
   "metadata": {},
   "source": [
    "Let's concentrate on the sigmoid function since is the function that I will use throughout the notebooks. For users that only visited a coupon once, their interest in that coupon will be $\\sim$0.10 (just run `sigmoid(1., 3, 1, 0.9)`). The the interest increase sharply until we get to $\\sim$6 visits (Interest = 0.85). From there in advance, the *interest* metric slowly increases up to 0.9, and will be never be more than that number. Our problem then will consist of trying to predict the interest given a series of user and item features, i.e. a regression. \n",
    "\n",
    "Before we move on it is worth to add a caveat. As I showed in the first figure in this notebook, there are 65 different values of `views_count`. 63% of these values are one. Therefore, another option to define or fitting target would be to turn these numbers into categories and face the problem as a multiclass classification. I will leave that to you if you want to explore that set up."
   ]
  },
  {
   "cell_type": "code",
   "execution_count": 12,
   "metadata": {},
   "outputs": [
    {
     "data": {
      "text/html": [
       "<div>\n",
       "<style scoped>\n",
       "    .dataframe tbody tr th:only-of-type {\n",
       "        vertical-align: middle;\n",
       "    }\n",
       "\n",
       "    .dataframe tbody tr th {\n",
       "        vertical-align: top;\n",
       "    }\n",
       "\n",
       "    .dataframe thead th {\n",
       "        text-align: right;\n",
       "    }\n",
       "</style>\n",
       "<table border=\"1\" class=\"dataframe\">\n",
       "  <thead>\n",
       "    <tr style=\"text-align: right;\">\n",
       "      <th></th>\n",
       "      <th>user_id_hash</th>\n",
       "      <th>coupon_id_hash</th>\n",
       "      <th>days_to_present</th>\n",
       "      <th>interest</th>\n",
       "    </tr>\n",
       "  </thead>\n",
       "  <tbody>\n",
       "    <tr>\n",
       "      <td>0</td>\n",
       "      <td>0000b53e182165208887ba65c079fc21</td>\n",
       "      <td>0645faa156f34104e6d8910160868f9f</td>\n",
       "      <td>182</td>\n",
       "      <td>0.107283</td>\n",
       "    </tr>\n",
       "    <tr>\n",
       "      <td>1</td>\n",
       "      <td>0000b53e182165208887ba65c079fc21</td>\n",
       "      <td>18097cd25ab6b7e8eb0481b0e3a3cfd8</td>\n",
       "      <td>267</td>\n",
       "      <td>0.107283</td>\n",
       "    </tr>\n",
       "    <tr>\n",
       "      <td>2</td>\n",
       "      <td>0000b53e182165208887ba65c079fc21</td>\n",
       "      <td>1b581f2ed53f2f2eafbc1560db640194</td>\n",
       "      <td>182</td>\n",
       "      <td>0.107283</td>\n",
       "    </tr>\n",
       "    <tr>\n",
       "      <td>3</td>\n",
       "      <td>0000b53e182165208887ba65c079fc21</td>\n",
       "      <td>1d04e76c44c231d5d05dc1634d20fe8c</td>\n",
       "      <td>267</td>\n",
       "      <td>0.242047</td>\n",
       "    </tr>\n",
       "    <tr>\n",
       "      <td>4</td>\n",
       "      <td>0000b53e182165208887ba65c079fc21</td>\n",
       "      <td>2ab16b8f5aeead6d31dbdb9bd59c41db</td>\n",
       "      <td>267</td>\n",
       "      <td>0.242047</td>\n",
       "    </tr>\n",
       "  </tbody>\n",
       "</table>\n",
       "</div>"
      ],
      "text/plain": [
       "                       user_id_hash                    coupon_id_hash  \\\n",
       "0  0000b53e182165208887ba65c079fc21  0645faa156f34104e6d8910160868f9f   \n",
       "1  0000b53e182165208887ba65c079fc21  18097cd25ab6b7e8eb0481b0e3a3cfd8   \n",
       "2  0000b53e182165208887ba65c079fc21  1b581f2ed53f2f2eafbc1560db640194   \n",
       "3  0000b53e182165208887ba65c079fc21  1d04e76c44c231d5d05dc1634d20fe8c   \n",
       "4  0000b53e182165208887ba65c079fc21  2ab16b8f5aeead6d31dbdb9bd59c41db   \n",
       "\n",
       "   days_to_present  interest  \n",
       "0              182  0.107283  \n",
       "1              267  0.107283  \n",
       "2              182  0.107283  \n",
       "3              267  0.242047  \n",
       "4              267  0.242047  "
      ]
     },
     "execution_count": 12,
     "metadata": {},
     "output_type": "execute_result"
    }
   ],
   "source": [
    "# interest for visits using a sigmoid\n",
    "vxmid, vtau, vtop = 3, 1, 0.9\n",
    "df_interest_vtr['interest'] = sigmoid(df_interest_vtr.views_count.values, vxmid, vtau, vtop)\n",
    "df_interest_vtr.drop('views_count', axis=1, inplace=True)\n",
    "\n",
    "df_interest_vtr.head()"
   ]
  },
  {
   "cell_type": "markdown",
   "metadata": {},
   "source": [
    "In addition, a sigmoid function can also be used to compute a *\"recency factor\"*. \n",
    "\n",
    "So far we have treated all coupons as equally important, independently on when they were purchased or visited. A good recommendation algorithm should include, or at least consider, recency. It is likely that the likes of an individual change through time so chances are that your recommendation algorithms work better if they are biased towards more recent interactions. \n",
    "\n",
    "Similarly to what we did with the number counts, we can use the sigmoid function above and do:"
   ]
  },
  {
   "cell_type": "code",
   "execution_count": 13,
   "metadata": {},
   "outputs": [
    {
     "data": {
      "text/html": [
       "<div>\n",
       "<style scoped>\n",
       "    .dataframe tbody tr th:only-of-type {\n",
       "        vertical-align: middle;\n",
       "    }\n",
       "\n",
       "    .dataframe tbody tr th {\n",
       "        vertical-align: top;\n",
       "    }\n",
       "\n",
       "    .dataframe thead th {\n",
       "        text-align: right;\n",
       "    }\n",
       "</style>\n",
       "<table border=\"1\" class=\"dataframe\">\n",
       "  <thead>\n",
       "    <tr style=\"text-align: right;\">\n",
       "      <th></th>\n",
       "      <th>user_id_hash</th>\n",
       "      <th>coupon_id_hash</th>\n",
       "      <th>interest</th>\n",
       "      <th>recency_factor</th>\n",
       "    </tr>\n",
       "  </thead>\n",
       "  <tbody>\n",
       "    <tr>\n",
       "      <td>0</td>\n",
       "      <td>05101ccb6e755c85319a8e73e54eed51</td>\n",
       "      <td>944dc470ee5b84f4d0ea54637ea1f10d</td>\n",
       "      <td>0.107283</td>\n",
       "      <td>0.012128</td>\n",
       "    </tr>\n",
       "    <tr>\n",
       "      <td>1</td>\n",
       "      <td>ac98fa7a021c738b5d55be3ea7aa3c70</td>\n",
       "      <td>a0acdade59211f38823e37a125529da6</td>\n",
       "      <td>0.107283</td>\n",
       "      <td>0.854043</td>\n",
       "    </tr>\n",
       "    <tr>\n",
       "      <td>2</td>\n",
       "      <td>2d54e581d77a0ef9d492328964339293</td>\n",
       "      <td>10eb8db34b715208d5061f8768e063ab</td>\n",
       "      <td>0.107283</td>\n",
       "      <td>0.954058</td>\n",
       "    </tr>\n",
       "    <tr>\n",
       "      <td>3</td>\n",
       "      <td>b3e000518b0b34cf8ba2ddc4a9c5c1fe</td>\n",
       "      <td>0fba2f7bb32be24a7098b98d64795af8</td>\n",
       "      <td>0.242047</td>\n",
       "      <td>0.997975</td>\n",
       "    </tr>\n",
       "    <tr>\n",
       "      <td>4</td>\n",
       "      <td>878928bd60c12684dabe9a58415e4c0e</td>\n",
       "      <td>1e0da3283028db0d3ae4a17d777b5206</td>\n",
       "      <td>1.000000</td>\n",
       "      <td>0.985226</td>\n",
       "    </tr>\n",
       "  </tbody>\n",
       "</table>\n",
       "</div>"
      ],
      "text/plain": [
       "                       user_id_hash                    coupon_id_hash  \\\n",
       "0  05101ccb6e755c85319a8e73e54eed51  944dc470ee5b84f4d0ea54637ea1f10d   \n",
       "1  ac98fa7a021c738b5d55be3ea7aa3c70  a0acdade59211f38823e37a125529da6   \n",
       "2  2d54e581d77a0ef9d492328964339293  10eb8db34b715208d5061f8768e063ab   \n",
       "3  b3e000518b0b34cf8ba2ddc4a9c5c1fe  0fba2f7bb32be24a7098b98d64795af8   \n",
       "4  878928bd60c12684dabe9a58415e4c0e  1e0da3283028db0d3ae4a17d777b5206   \n",
       "\n",
       "   interest  recency_factor  \n",
       "0  0.107283        0.012128  \n",
       "1  0.107283        0.854043  \n",
       "2  0.107283        0.954058  \n",
       "3  0.242047        0.997975  \n",
       "4  1.000000        0.985226  "
      ]
     },
     "execution_count": 13,
     "metadata": {},
     "output_type": "execute_result"
    }
   ],
   "source": [
    "# in case we want to add a factor depending on recency of purchase\n",
    "df_interest = pd.concat([df_interest_ptr, df_interest_vtr],\n",
    "    axis=0, ignore_index=True)\n",
    "df_interest['days_to_present_inv'] = df_interest.days_to_present.max() - df_interest.days_to_present\n",
    "\n",
    "rxmid, rtau, rtop = 150, 30, 1\n",
    "df_interest['recency_factor'] = sigmoid(df_interest.days_to_present_inv.values, rxmid, rtau, rtop)\n",
    "df_interest.drop(['days_to_present', 'days_to_present_inv'], axis=1, inplace=True)\n",
    "df_interest = df_interest.sample(frac=1).reset_index(drop=True)\n",
    "\n",
    "df_interest.head()"
   ]
  },
  {
   "cell_type": "markdown",
   "metadata": {},
   "source": [
    "Let's save it to disk"
   ]
  },
  {
   "cell_type": "code",
   "execution_count": 14,
   "metadata": {},
   "outputs": [],
   "source": [
    "df_interest.to_pickle(os.path.join(out_dir,'train','df_interest.p'))"
   ]
  },
  {
   "cell_type": "markdown",
   "metadata": {},
   "source": [
    "### 8.2 User-Item Interaction Matrix\n",
    "\n",
    "Once we have the interese dataframe, building an \"interaction\" or \"rating matrix\" is straightforward. "
   ]
  },
  {
   "cell_type": "code",
   "execution_count": 15,
   "metadata": {},
   "outputs": [],
   "source": [
    "users = df_interest.user_id_hash.unique()\n",
    "items = df_interest.coupon_id_hash.unique()\n",
    "\n",
    "# user and item dictionary of indexes \n",
    "users_idx_dict = {k:v for v,k in enumerate(users)}\n",
    "items_idx_dict = {k:v for v,k in enumerate(items)}"
   ]
  },
  {
   "cell_type": "code",
   "execution_count": 16,
   "metadata": {},
   "outputs": [
    {
     "name": "stdout",
     "output_type": "stream",
     "text": [
      "INFO: filled 0 out of 1560464 interactions\n",
      "INFO: filled 100000 out of 1560464 interactions\n",
      "INFO: filled 200000 out of 1560464 interactions\n",
      "INFO: filled 300000 out of 1560464 interactions\n",
      "INFO: filled 400000 out of 1560464 interactions\n",
      "INFO: filled 500000 out of 1560464 interactions\n",
      "INFO: filled 600000 out of 1560464 interactions\n",
      "INFO: filled 700000 out of 1560464 interactions\n",
      "INFO: filled 800000 out of 1560464 interactions\n",
      "INFO: filled 900000 out of 1560464 interactions\n",
      "INFO: filled 1000000 out of 1560464 interactions\n",
      "INFO: filled 1100000 out of 1560464 interactions\n",
      "INFO: filled 1200000 out of 1560464 interactions\n",
      "INFO: filled 1300000 out of 1560464 interactions\n",
      "INFO: filled 1400000 out of 1560464 interactions\n",
      "INFO: filled 1500000 out of 1560464 interactions\n"
     ]
    }
   ],
   "source": [
    "# lil_matrix for speed...\n",
    "interactions_mtx = lil_matrix((users.shape[0], items.shape[0]))\n",
    "for i, (_,row) in enumerate(df_interest.iterrows()):\n",
    "    if i%100000==0:\n",
    "        print('INFO: filled {} out of {} interactions'.format(i, df_interest.shape[0]))\n",
    "    user_idx = users_idx_dict[row['user_id_hash']]\n",
    "    item_idx = items_idx_dict[row['coupon_id_hash']]\n",
    "    interest = row['interest']\n",
    "    interactions_mtx[user_idx,item_idx] = interest\n",
    "\n",
    "# ...and csr to save it (save lil format is not implemented)\n",
    "interactions_mtx = \tinteractions_mtx.tocsr()"
   ]
  },
  {
   "cell_type": "markdown",
   "metadata": {},
   "source": [
    "and save"
   ]
  },
  {
   "cell_type": "code",
   "execution_count": 17,
   "metadata": {},
   "outputs": [],
   "source": [
    "pickle.dump(users_idx_dict, open(os.path.join(out_dir, 'train', 'users_idx_dict.p'), 'wb'))\n",
    "pickle.dump(items_idx_dict, open(os.path.join(out_dir, 'train', 'items_idx_dict.p'), 'wb'))\n",
    "save_npz(os.path.join(out_dir, 'train', \"interactions_mtx.npz\"), interactions_mtx)"
   ]
  },
  {
   "cell_type": "markdown",
   "metadata": {},
   "source": [
    "### 8.3 User and Coupon features matrices\n",
    "\n",
    "For convenience, we will build user and coupon features matrices where the row-order is the same as that of the interaction matrix. This is not an absolute requirement, but it will make our life easier in some of the example we go through later. "
   ]
  },
  {
   "cell_type": "code",
   "execution_count": 18,
   "metadata": {},
   "outputs": [],
   "source": [
    "# remember we lose one user that did not interact with any of the coupons in the training dataset. \n",
    "# Let's make sure all is consistent for upcoming joins:\n",
    "df_user_train_feat = df_user_train_feat[df_user_train_feat.user_id_hash.isin(users_idx_dict.keys())]"
   ]
  },
  {
   "cell_type": "markdown",
   "metadata": {},
   "source": [
    "Dataframes with the row/column order for users/items "
   ]
  },
  {
   "cell_type": "code",
   "execution_count": 19,
   "metadata": {},
   "outputs": [
    {
     "data": {
      "text/html": [
       "<div>\n",
       "<style scoped>\n",
       "    .dataframe tbody tr th:only-of-type {\n",
       "        vertical-align: middle;\n",
       "    }\n",
       "\n",
       "    .dataframe tbody tr th {\n",
       "        vertical-align: top;\n",
       "    }\n",
       "\n",
       "    .dataframe thead th {\n",
       "        text-align: right;\n",
       "    }\n",
       "</style>\n",
       "<table border=\"1\" class=\"dataframe\">\n",
       "  <thead>\n",
       "    <tr style=\"text-align: right;\">\n",
       "      <th></th>\n",
       "      <th>user_id_hash</th>\n",
       "      <th>idx</th>\n",
       "    </tr>\n",
       "  </thead>\n",
       "  <tbody>\n",
       "    <tr>\n",
       "      <td>0</td>\n",
       "      <td>05101ccb6e755c85319a8e73e54eed51</td>\n",
       "      <td>0</td>\n",
       "    </tr>\n",
       "    <tr>\n",
       "      <td>1</td>\n",
       "      <td>ac98fa7a021c738b5d55be3ea7aa3c70</td>\n",
       "      <td>1</td>\n",
       "    </tr>\n",
       "    <tr>\n",
       "      <td>2</td>\n",
       "      <td>2d54e581d77a0ef9d492328964339293</td>\n",
       "      <td>2</td>\n",
       "    </tr>\n",
       "    <tr>\n",
       "      <td>3</td>\n",
       "      <td>b3e000518b0b34cf8ba2ddc4a9c5c1fe</td>\n",
       "      <td>3</td>\n",
       "    </tr>\n",
       "    <tr>\n",
       "      <td>4</td>\n",
       "      <td>878928bd60c12684dabe9a58415e4c0e</td>\n",
       "      <td>4</td>\n",
       "    </tr>\n",
       "  </tbody>\n",
       "</table>\n",
       "</div>"
      ],
      "text/plain": [
       "                       user_id_hash  idx\n",
       "0  05101ccb6e755c85319a8e73e54eed51    0\n",
       "1  ac98fa7a021c738b5d55be3ea7aa3c70    1\n",
       "2  2d54e581d77a0ef9d492328964339293    2\n",
       "3  b3e000518b0b34cf8ba2ddc4a9c5c1fe    3\n",
       "4  878928bd60c12684dabe9a58415e4c0e    4"
      ]
     },
     "execution_count": 19,
     "metadata": {},
     "output_type": "execute_result"
    }
   ],
   "source": [
    "df_coupons_order = pd.DataFrame({'coupon_id_hash': list(items_idx_dict.keys()), 'idx': list(items_idx_dict.values())})\n",
    "df_users_order = pd.DataFrame({'user_id_hash': list(users_idx_dict.keys()), 'idx': list(users_idx_dict.values())})\n",
    "\n",
    "df_users_order.head()"
   ]
  },
  {
   "cell_type": "markdown",
   "metadata": {},
   "source": [
    "Let's enforce that order"
   ]
  },
  {
   "cell_type": "code",
   "execution_count": 20,
   "metadata": {},
   "outputs": [
    {
     "data": {
      "text/html": [
       "<div>\n",
       "<style scoped>\n",
       "    .dataframe tbody tr th:only-of-type {\n",
       "        vertical-align: middle;\n",
       "    }\n",
       "\n",
       "    .dataframe tbody tr th {\n",
       "        vertical-align: top;\n",
       "    }\n",
       "\n",
       "    .dataframe thead th {\n",
       "        text-align: right;\n",
       "    }\n",
       "</style>\n",
       "<table border=\"1\" class=\"dataframe\">\n",
       "  <thead>\n",
       "    <tr style=\"text-align: right;\">\n",
       "      <th></th>\n",
       "      <th>age</th>\n",
       "      <th>user_id_hash</th>\n",
       "      <th>pref_name_cat</th>\n",
       "      <th>sex_id_cat</th>\n",
       "      <th>catalog_price_mean</th>\n",
       "      <th>catalog_price_median</th>\n",
       "      <th>catalog_price_min</th>\n",
       "      <th>catalog_price_max</th>\n",
       "      <th>discount_price_mean</th>\n",
       "      <th>discount_price_median</th>\n",
       "      <th>...</th>\n",
       "      <th>coupon_id_hash_nunique</th>\n",
       "      <th>item_count_sum</th>\n",
       "      <th>small_area_name_nunique</th>\n",
       "      <th>day_of_week_nunique</th>\n",
       "      <th>median_time_diff</th>\n",
       "      <th>top1_small_area_name_cat</th>\n",
       "      <th>top2_small_area_name_cat</th>\n",
       "      <th>top1_dayofweek_cat</th>\n",
       "      <th>top2_dayofweek_cat</th>\n",
       "      <th>idx</th>\n",
       "    </tr>\n",
       "  </thead>\n",
       "  <tbody>\n",
       "    <tr>\n",
       "      <td>0</td>\n",
       "      <td>25</td>\n",
       "      <td>d9dca3cb44bab12ba313eaa681f663eb</td>\n",
       "      <td>47</td>\n",
       "      <td>0</td>\n",
       "      <td>7200.000000</td>\n",
       "      <td>7200.0</td>\n",
       "      <td>7200.0</td>\n",
       "      <td>7200.0</td>\n",
       "      <td>1575.000000</td>\n",
       "      <td>1575.0</td>\n",
       "      <td>...</td>\n",
       "      <td>1.0</td>\n",
       "      <td>1.0</td>\n",
       "      <td>1.0</td>\n",
       "      <td>1.0</td>\n",
       "      <td>0.0</td>\n",
       "      <td>28</td>\n",
       "      <td>28</td>\n",
       "      <td>2</td>\n",
       "      <td>2</td>\n",
       "      <td>17005</td>\n",
       "    </tr>\n",
       "    <tr>\n",
       "      <td>1</td>\n",
       "      <td>34</td>\n",
       "      <td>560574a339f1b25e57b0221e486907ed</td>\n",
       "      <td>2</td>\n",
       "      <td>0</td>\n",
       "      <td>3619.133333</td>\n",
       "      <td>3000.0</td>\n",
       "      <td>320.0</td>\n",
       "      <td>12000.0</td>\n",
       "      <td>1308.666667</td>\n",
       "      <td>1000.0</td>\n",
       "      <td>...</td>\n",
       "      <td>11.0</td>\n",
       "      <td>19.0</td>\n",
       "      <td>4.0</td>\n",
       "      <td>7.0</td>\n",
       "      <td>15.5</td>\n",
       "      <td>4</td>\n",
       "      <td>12</td>\n",
       "      <td>5</td>\n",
       "      <td>3</td>\n",
       "      <td>741</td>\n",
       "    </tr>\n",
       "    <tr>\n",
       "      <td>2</td>\n",
       "      <td>41</td>\n",
       "      <td>e66ae91b978b3229f8fd858c80615b73</td>\n",
       "      <td>4</td>\n",
       "      <td>1</td>\n",
       "      <td>2535.000000</td>\n",
       "      <td>2535.0</td>\n",
       "      <td>2535.0</td>\n",
       "      <td>2535.0</td>\n",
       "      <td>1500.000000</td>\n",
       "      <td>1500.0</td>\n",
       "      <td>...</td>\n",
       "      <td>1.0</td>\n",
       "      <td>1.0</td>\n",
       "      <td>1.0</td>\n",
       "      <td>1.0</td>\n",
       "      <td>0.0</td>\n",
       "      <td>6</td>\n",
       "      <td>6</td>\n",
       "      <td>4</td>\n",
       "      <td>4</td>\n",
       "      <td>10199</td>\n",
       "    </tr>\n",
       "    <tr>\n",
       "      <td>3</td>\n",
       "      <td>25</td>\n",
       "      <td>43fc18f32eafb05713ec02935e2c2825</td>\n",
       "      <td>47</td>\n",
       "      <td>1</td>\n",
       "      <td>500.750000</td>\n",
       "      <td>1.0</td>\n",
       "      <td>1.0</td>\n",
       "      <td>2000.0</td>\n",
       "      <td>250.000000</td>\n",
       "      <td>0.0</td>\n",
       "      <td>...</td>\n",
       "      <td>4.0</td>\n",
       "      <td>4.0</td>\n",
       "      <td>2.0</td>\n",
       "      <td>3.0</td>\n",
       "      <td>48.0</td>\n",
       "      <td>2</td>\n",
       "      <td>33</td>\n",
       "      <td>0</td>\n",
       "      <td>2</td>\n",
       "      <td>16620</td>\n",
       "    </tr>\n",
       "    <tr>\n",
       "      <td>4</td>\n",
       "      <td>62</td>\n",
       "      <td>dc6df8aa860f8db0d710ce9d4839840f</td>\n",
       "      <td>5</td>\n",
       "      <td>1</td>\n",
       "      <td>8426.909091</td>\n",
       "      <td>4500.0</td>\n",
       "      <td>750.0</td>\n",
       "      <td>37800.0</td>\n",
       "      <td>4198.181818</td>\n",
       "      <td>2250.0</td>\n",
       "      <td>...</td>\n",
       "      <td>17.0</td>\n",
       "      <td>36.0</td>\n",
       "      <td>9.0</td>\n",
       "      <td>7.0</td>\n",
       "      <td>5.0</td>\n",
       "      <td>7</td>\n",
       "      <td>15</td>\n",
       "      <td>1</td>\n",
       "      <td>3</td>\n",
       "      <td>4762</td>\n",
       "    </tr>\n",
       "  </tbody>\n",
       "</table>\n",
       "<p>5 rows × 64 columns</p>\n",
       "</div>"
      ],
      "text/plain": [
       "   age                      user_id_hash  pref_name_cat  sex_id_cat  \\\n",
       "0   25  d9dca3cb44bab12ba313eaa681f663eb             47           0   \n",
       "1   34  560574a339f1b25e57b0221e486907ed              2           0   \n",
       "2   41  e66ae91b978b3229f8fd858c80615b73              4           1   \n",
       "3   25  43fc18f32eafb05713ec02935e2c2825             47           1   \n",
       "4   62  dc6df8aa860f8db0d710ce9d4839840f              5           1   \n",
       "\n",
       "   catalog_price_mean  catalog_price_median  catalog_price_min  \\\n",
       "0         7200.000000                7200.0             7200.0   \n",
       "1         3619.133333                3000.0              320.0   \n",
       "2         2535.000000                2535.0             2535.0   \n",
       "3          500.750000                   1.0                1.0   \n",
       "4         8426.909091                4500.0              750.0   \n",
       "\n",
       "   catalog_price_max  discount_price_mean  discount_price_median  ...  \\\n",
       "0             7200.0          1575.000000                 1575.0  ...   \n",
       "1            12000.0          1308.666667                 1000.0  ...   \n",
       "2             2535.0          1500.000000                 1500.0  ...   \n",
       "3             2000.0           250.000000                    0.0  ...   \n",
       "4            37800.0          4198.181818                 2250.0  ...   \n",
       "\n",
       "   coupon_id_hash_nunique  item_count_sum  small_area_name_nunique  \\\n",
       "0                     1.0             1.0                      1.0   \n",
       "1                    11.0            19.0                      4.0   \n",
       "2                     1.0             1.0                      1.0   \n",
       "3                     4.0             4.0                      2.0   \n",
       "4                    17.0            36.0                      9.0   \n",
       "\n",
       "   day_of_week_nunique  median_time_diff  top1_small_area_name_cat  \\\n",
       "0                  1.0               0.0                        28   \n",
       "1                  7.0              15.5                         4   \n",
       "2                  1.0               0.0                         6   \n",
       "3                  3.0              48.0                         2   \n",
       "4                  7.0               5.0                         7   \n",
       "\n",
       "   top2_small_area_name_cat  top1_dayofweek_cat  top2_dayofweek_cat    idx  \n",
       "0                        28                   2                   2  17005  \n",
       "1                        12                   5                   3    741  \n",
       "2                         6                   4                   4  10199  \n",
       "3                        33                   0                   2  16620  \n",
       "4                        15                   1                   3   4762  \n",
       "\n",
       "[5 rows x 64 columns]"
      ]
     },
     "execution_count": 20,
     "metadata": {},
     "output_type": "execute_result"
    }
   ],
   "source": [
    "df_coupons_train_feat = df_coupons_train_feat.merge(df_coupons_order, on='coupon_id_hash')\n",
    "df_user_train_feat = df_user_train_feat.merge(df_users_order, on='user_id_hash')\n",
    "\n",
    "df_user_train_feat.head()"
   ]
  },
  {
   "cell_type": "code",
   "execution_count": 21,
   "metadata": {},
   "outputs": [
    {
     "data": {
      "text/html": [
       "<div>\n",
       "<style scoped>\n",
       "    .dataframe tbody tr th:only-of-type {\n",
       "        vertical-align: middle;\n",
       "    }\n",
       "\n",
       "    .dataframe tbody tr th {\n",
       "        vertical-align: top;\n",
       "    }\n",
       "\n",
       "    .dataframe thead th {\n",
       "        text-align: right;\n",
       "    }\n",
       "</style>\n",
       "<table border=\"1\" class=\"dataframe\">\n",
       "  <thead>\n",
       "    <tr style=\"text-align: right;\">\n",
       "      <th></th>\n",
       "      <th>age</th>\n",
       "      <th>pref_name_cat</th>\n",
       "      <th>sex_id_cat</th>\n",
       "      <th>catalog_price_mean</th>\n",
       "      <th>catalog_price_median</th>\n",
       "      <th>catalog_price_min</th>\n",
       "      <th>catalog_price_max</th>\n",
       "      <th>discount_price_mean</th>\n",
       "      <th>discount_price_median</th>\n",
       "      <th>discount_price_min</th>\n",
       "      <th>...</th>\n",
       "      <th>purchaseid_hash_count</th>\n",
       "      <th>coupon_id_hash_nunique</th>\n",
       "      <th>item_count_sum</th>\n",
       "      <th>small_area_name_nunique</th>\n",
       "      <th>day_of_week_nunique</th>\n",
       "      <th>median_time_diff</th>\n",
       "      <th>top1_small_area_name_cat</th>\n",
       "      <th>top2_small_area_name_cat</th>\n",
       "      <th>top1_dayofweek_cat</th>\n",
       "      <th>top2_dayofweek_cat</th>\n",
       "    </tr>\n",
       "  </thead>\n",
       "  <tbody>\n",
       "    <tr>\n",
       "      <td>11902</td>\n",
       "      <td>30</td>\n",
       "      <td>26</td>\n",
       "      <td>1</td>\n",
       "      <td>3682.909091</td>\n",
       "      <td>2700.0</td>\n",
       "      <td>500.0</td>\n",
       "      <td>18000.0</td>\n",
       "      <td>1259.242424</td>\n",
       "      <td>1200.0</td>\n",
       "      <td>100.0</td>\n",
       "      <td>...</td>\n",
       "      <td>33.0</td>\n",
       "      <td>32.0</td>\n",
       "      <td>40.0</td>\n",
       "      <td>8.0</td>\n",
       "      <td>7.0</td>\n",
       "      <td>5.0</td>\n",
       "      <td>34</td>\n",
       "      <td>6</td>\n",
       "      <td>1</td>\n",
       "      <td>4</td>\n",
       "    </tr>\n",
       "    <tr>\n",
       "      <td>11973</td>\n",
       "      <td>60</td>\n",
       "      <td>2</td>\n",
       "      <td>0</td>\n",
       "      <td>8543.175000</td>\n",
       "      <td>5217.5</td>\n",
       "      <td>450.0</td>\n",
       "      <td>39700.0</td>\n",
       "      <td>2874.500000</td>\n",
       "      <td>1980.0</td>\n",
       "      <td>225.0</td>\n",
       "      <td>...</td>\n",
       "      <td>40.0</td>\n",
       "      <td>40.0</td>\n",
       "      <td>55.0</td>\n",
       "      <td>8.0</td>\n",
       "      <td>7.0</td>\n",
       "      <td>5.0</td>\n",
       "      <td>2</td>\n",
       "      <td>5</td>\n",
       "      <td>1</td>\n",
       "      <td>0</td>\n",
       "    </tr>\n",
       "    <tr>\n",
       "      <td>563</td>\n",
       "      <td>17</td>\n",
       "      <td>14</td>\n",
       "      <td>1</td>\n",
       "      <td>5160.000000</td>\n",
       "      <td>3680.0</td>\n",
       "      <td>1800.0</td>\n",
       "      <td>10000.0</td>\n",
       "      <td>2580.000000</td>\n",
       "      <td>1840.0</td>\n",
       "      <td>900.0</td>\n",
       "      <td>...</td>\n",
       "      <td>3.0</td>\n",
       "      <td>3.0</td>\n",
       "      <td>6.0</td>\n",
       "      <td>2.0</td>\n",
       "      <td>2.0</td>\n",
       "      <td>20.5</td>\n",
       "      <td>21</td>\n",
       "      <td>53</td>\n",
       "      <td>3</td>\n",
       "      <td>2</td>\n",
       "    </tr>\n",
       "    <tr>\n",
       "      <td>22523</td>\n",
       "      <td>49</td>\n",
       "      <td>5</td>\n",
       "      <td>0</td>\n",
       "      <td>3795.838710</td>\n",
       "      <td>2490.0</td>\n",
       "      <td>1.0</td>\n",
       "      <td>15750.0</td>\n",
       "      <td>1405.806452</td>\n",
       "      <td>980.0</td>\n",
       "      <td>0.0</td>\n",
       "      <td>...</td>\n",
       "      <td>31.0</td>\n",
       "      <td>27.0</td>\n",
       "      <td>40.0</td>\n",
       "      <td>10.0</td>\n",
       "      <td>7.0</td>\n",
       "      <td>4.0</td>\n",
       "      <td>15</td>\n",
       "      <td>7</td>\n",
       "      <td>2</td>\n",
       "      <td>4</td>\n",
       "    </tr>\n",
       "    <tr>\n",
       "      <td>21840</td>\n",
       "      <td>37</td>\n",
       "      <td>5</td>\n",
       "      <td>0</td>\n",
       "      <td>4302.307692</td>\n",
       "      <td>3280.0</td>\n",
       "      <td>1.0</td>\n",
       "      <td>17000.0</td>\n",
       "      <td>1787.897436</td>\n",
       "      <td>1490.0</td>\n",
       "      <td>0.0</td>\n",
       "      <td>...</td>\n",
       "      <td>39.0</td>\n",
       "      <td>35.0</td>\n",
       "      <td>56.0</td>\n",
       "      <td>9.0</td>\n",
       "      <td>7.0</td>\n",
       "      <td>4.5</td>\n",
       "      <td>12</td>\n",
       "      <td>4</td>\n",
       "      <td>1</td>\n",
       "      <td>3</td>\n",
       "    </tr>\n",
       "  </tbody>\n",
       "</table>\n",
       "<p>5 rows × 62 columns</p>\n",
       "</div>"
      ],
      "text/plain": [
       "       age  pref_name_cat  sex_id_cat  catalog_price_mean  \\\n",
       "11902   30             26           1         3682.909091   \n",
       "11973   60              2           0         8543.175000   \n",
       "563     17             14           1         5160.000000   \n",
       "22523   49              5           0         3795.838710   \n",
       "21840   37              5           0         4302.307692   \n",
       "\n",
       "       catalog_price_median  catalog_price_min  catalog_price_max  \\\n",
       "11902                2700.0              500.0            18000.0   \n",
       "11973                5217.5              450.0            39700.0   \n",
       "563                  3680.0             1800.0            10000.0   \n",
       "22523                2490.0                1.0            15750.0   \n",
       "21840                3280.0                1.0            17000.0   \n",
       "\n",
       "       discount_price_mean  discount_price_median  discount_price_min  ...  \\\n",
       "11902          1259.242424                 1200.0               100.0  ...   \n",
       "11973          2874.500000                 1980.0               225.0  ...   \n",
       "563            2580.000000                 1840.0               900.0  ...   \n",
       "22523          1405.806452                  980.0                 0.0  ...   \n",
       "21840          1787.897436                 1490.0                 0.0  ...   \n",
       "\n",
       "       purchaseid_hash_count  coupon_id_hash_nunique  item_count_sum  \\\n",
       "11902                   33.0                    32.0            40.0   \n",
       "11973                   40.0                    40.0            55.0   \n",
       "563                      3.0                     3.0             6.0   \n",
       "22523                   31.0                    27.0            40.0   \n",
       "21840                   39.0                    35.0            56.0   \n",
       "\n",
       "       small_area_name_nunique  day_of_week_nunique  median_time_diff  \\\n",
       "11902                      8.0                  7.0               5.0   \n",
       "11973                      8.0                  7.0               5.0   \n",
       "563                        2.0                  2.0              20.5   \n",
       "22523                     10.0                  7.0               4.0   \n",
       "21840                      9.0                  7.0               4.5   \n",
       "\n",
       "       top1_small_area_name_cat  top2_small_area_name_cat  top1_dayofweek_cat  \\\n",
       "11902                        34                         6                   1   \n",
       "11973                         2                         5                   1   \n",
       "563                          21                        53                   3   \n",
       "22523                        15                         7                   2   \n",
       "21840                        12                         4                   1   \n",
       "\n",
       "       top2_dayofweek_cat  \n",
       "11902                   4  \n",
       "11973                   0  \n",
       "563                     2  \n",
       "22523                   4  \n",
       "21840                   3  \n",
       "\n",
       "[5 rows x 62 columns]"
      ]
     },
     "execution_count": 21,
     "metadata": {},
     "output_type": "execute_result"
    }
   ],
   "source": [
    "df_coupons_train_feat.sort_values('idx', inplace=True)\n",
    "df_coupons_train_feat.drop(['coupon_id_hash', 'idx'], axis=1, inplace=True)\n",
    "df_coupons_train_feat = df_coupons_train_feat.astype(int)\n",
    "\n",
    "df_user_train_feat.sort_values('idx', inplace=True)\n",
    "df_user_train_feat.drop(['user_id_hash', 'idx'], axis=1, inplace=True)\n",
    "\n",
    "df_user_train_feat.head()"
   ]
  },
  {
   "cell_type": "markdown",
   "metadata": {},
   "source": [
    "We will save the column names for later use and the matrices as csr sparse matrices"
   ]
  },
  {
   "cell_type": "code",
   "execution_count": 22,
   "metadata": {},
   "outputs": [],
   "source": [
    "user_feat_mtx_colnames = df_user_train_feat.columns.tolist()\n",
    "item_feat_mtx_colnames = df_coupons_train_feat.columns.tolist()\n",
    "\n",
    "user_feat_mtx = csr_matrix(df_user_train_feat.values)\n",
    "item_feat_mtx = csr_matrix(df_coupons_train_feat.values)"
   ]
  },
  {
   "cell_type": "markdown",
   "metadata": {},
   "source": [
    "And finally, all to disk"
   ]
  },
  {
   "cell_type": "code",
   "execution_count": 23,
   "metadata": {},
   "outputs": [],
   "source": [
    "pickle.dump(user_feat_mtx_colnames,\n",
    "    open(os.path.join(out_dir,'train', \"user_feat_mtx_colnames.p\"), \"wb\"))\n",
    "pickle.dump(item_feat_mtx_colnames,\n",
    "    open(os.path.join(out_dir,'train', \"item_feat_mtx_colnames.p\"), \"wb\"))\n",
    "\n",
    "save_npz(os.path.join(out_dir, 'train', \"user_feat_mtx.npz\"), user_feat_mtx)\n",
    "save_npz(os.path.join(out_dir, 'train', \"item_feat_mtx.npz\"), item_feat_mtx)"
   ]
  }
 ],
 "metadata": {
  "kernelspec": {
   "display_name": "Python 3",
   "language": "python",
   "name": "python3"
  },
  "language_info": {
   "codemirror_mode": {
    "name": "ipython",
    "version": 3
   },
   "file_extension": ".py",
   "mimetype": "text/x-python",
   "name": "python",
   "nbconvert_exporter": "python",
   "pygments_lexer": "ipython3",
   "version": "3.7.7"
  }
 },
 "nbformat": 4,
 "nbformat_minor": 2
}
