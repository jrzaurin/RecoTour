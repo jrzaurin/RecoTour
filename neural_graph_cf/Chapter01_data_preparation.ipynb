{
 "cells": [
  {
   "cell_type": "markdown",
   "metadata": {},
   "source": [
    "## Amazon Movies Data Preparation\n",
    "\n",
    "To start with simply download the dataset:\n",
    "\n",
    "```\n",
    "wget http://snap.stanford.edu/data/amazon/productGraph/categoryFiles/reviews_Movies_and_TV_5.json.gz`\n",
    "```\n",
    "\n",
    "Before we jump into the code, let me mention something. Most of the content in the notebooks in this directory is designed to run in any laptop, without the need of a GPU or even a lot memory. The goal is to illustrate how the different components of the algorithm work.\n",
    "\n",
    "With that in mind I have included in this directory a script called `generate_toy_data.py` that will generate a small, random dataset designed to replicate exactly the data format required to be passed to the Neural Graph Collaborative Filtering algorithm.\n",
    "\n",
    "Therefore, if you just want to see how the algorithm functions and do not have any intention of running it using the Amazon Dataset, simply run that script (e.g):\n",
    "\n",
    "```\n",
    "python generate_toy_data --n_users 1000 n_items 2000 \n",
    "```\n",
    "\n",
    "And you are good to go, you can move directly to notebook Chapter02. With that being said, let's see how one would prepare the Amazon movie reviews to be passed to the NGCF algorithm"
   ]
  },
  {
   "cell_type": "code",
   "execution_count": 1,
   "metadata": {},
   "outputs": [],
   "source": [
    "import numpy as np\n",
    "import pandas as pd\n",
    "import scipy.sparse as sp\n",
    "import csv\n",
    "\n",
    "from tqdm import tqdm\n",
    "from pathlib import Path"
   ]
  },
  {
   "cell_type": "markdown",
   "metadata": {},
   "source": [
    "As with any other dataset used in this repo, I place them in `~/projects/RecoTour/datasets`"
   ]
  },
  {
   "cell_type": "code",
   "execution_count": 2,
   "metadata": {},
   "outputs": [],
   "source": [
    "DATA_PATH = Path(\"/home/ubuntu/projects/RecoTour/datasets/Amazon\")\n",
    "reviews = \"reviews_Movies_and_TV_5.json.gz\""
   ]
  },
  {
   "cell_type": "code",
   "execution_count": 3,
   "metadata": {},
   "outputs": [
    {
     "data": {
      "text/html": [
       "<div>\n",
       "<style scoped>\n",
       "    .dataframe tbody tr th:only-of-type {\n",
       "        vertical-align: middle;\n",
       "    }\n",
       "\n",
       "    .dataframe tbody tr th {\n",
       "        vertical-align: top;\n",
       "    }\n",
       "\n",
       "    .dataframe thead th {\n",
       "        text-align: right;\n",
       "    }\n",
       "</style>\n",
       "<table border=\"1\" class=\"dataframe\">\n",
       "  <thead>\n",
       "    <tr style=\"text-align: right;\">\n",
       "      <th></th>\n",
       "      <th>user</th>\n",
       "      <th>item</th>\n",
       "      <th>timestamp</th>\n",
       "      <th>rating</th>\n",
       "    </tr>\n",
       "  </thead>\n",
       "  <tbody>\n",
       "    <tr>\n",
       "      <td>0</td>\n",
       "      <td>ADZPIG9QOCDG5</td>\n",
       "      <td>0005019281</td>\n",
       "      <td>1203984000</td>\n",
       "      <td>4</td>\n",
       "    </tr>\n",
       "    <tr>\n",
       "      <td>1</td>\n",
       "      <td>A35947ZP82G7JH</td>\n",
       "      <td>0005019281</td>\n",
       "      <td>1388361600</td>\n",
       "      <td>3</td>\n",
       "    </tr>\n",
       "    <tr>\n",
       "      <td>2</td>\n",
       "      <td>A3UORV8A9D5L2E</td>\n",
       "      <td>0005019281</td>\n",
       "      <td>1388361600</td>\n",
       "      <td>3</td>\n",
       "    </tr>\n",
       "    <tr>\n",
       "      <td>3</td>\n",
       "      <td>A1VKW06X1O2X7V</td>\n",
       "      <td>0005019281</td>\n",
       "      <td>1202860800</td>\n",
       "      <td>5</td>\n",
       "    </tr>\n",
       "    <tr>\n",
       "      <td>4</td>\n",
       "      <td>A3R27T4HADWFFJ</td>\n",
       "      <td>0005019281</td>\n",
       "      <td>1387670400</td>\n",
       "      <td>4</td>\n",
       "    </tr>\n",
       "  </tbody>\n",
       "</table>\n",
       "</div>"
      ],
      "text/plain": [
       "             user        item   timestamp  rating\n",
       "0   ADZPIG9QOCDG5  0005019281  1203984000       4\n",
       "1  A35947ZP82G7JH  0005019281  1388361600       3\n",
       "2  A3UORV8A9D5L2E  0005019281  1388361600       3\n",
       "3  A1VKW06X1O2X7V  0005019281  1202860800       5\n",
       "4  A3R27T4HADWFFJ  0005019281  1387670400       4"
      ]
     },
     "execution_count": 3,
     "metadata": {},
     "output_type": "execute_result"
    }
   ],
   "source": [
    "df = pd.read_json(DATA_PATH/reviews, lines=True)\n",
    "keep_cols = ['reviewerID', 'asin', 'unixReviewTime', 'overall']\n",
    "new_colnames = ['user', 'item', 'timestamp', 'rating']\n",
    "df = df[keep_cols]\n",
    "df.columns = new_colnames\n",
    "df.head()"
   ]
  },
  {
   "cell_type": "code",
   "execution_count": 4,
   "metadata": {},
   "outputs": [
    {
     "data": {
      "text/plain": [
       "5    906608\n",
       "4    382994\n",
       "3    201302\n",
       "1    104219\n",
       "2    102410\n",
       "Name: rating, dtype: int64"
      ]
     },
     "execution_count": 4,
     "metadata": {},
     "output_type": "execute_result"
    }
   ],
   "source": [
    "df.rating.value_counts()"
   ]
  },
  {
   "cell_type": "markdown",
   "metadata": {},
   "source": [
    "a lot of people seem to love the movies they watch. There are more 5s that 1,2,3 and 4s together. \n",
    "\n",
    "For convenience later, let's now sort values based on `timestamp`."
   ]
  },
  {
   "cell_type": "code",
   "execution_count": 5,
   "metadata": {},
   "outputs": [
    {
     "data": {
      "text/html": [
       "<div>\n",
       "<style scoped>\n",
       "    .dataframe tbody tr th:only-of-type {\n",
       "        vertical-align: middle;\n",
       "    }\n",
       "\n",
       "    .dataframe tbody tr th {\n",
       "        vertical-align: top;\n",
       "    }\n",
       "\n",
       "    .dataframe thead th {\n",
       "        text-align: right;\n",
       "    }\n",
       "</style>\n",
       "<table border=\"1\" class=\"dataframe\">\n",
       "  <thead>\n",
       "    <tr style=\"text-align: right;\">\n",
       "      <th></th>\n",
       "      <th>user</th>\n",
       "      <th>item</th>\n",
       "      <th>timestamp</th>\n",
       "      <th>rating</th>\n",
       "    </tr>\n",
       "  </thead>\n",
       "  <tbody>\n",
       "    <tr>\n",
       "      <td>0</td>\n",
       "      <td>A00295401U6S2UG3RAQSZ</td>\n",
       "      <td>0767015533</td>\n",
       "      <td>1353196800</td>\n",
       "      <td>4</td>\n",
       "    </tr>\n",
       "    <tr>\n",
       "      <td>1</td>\n",
       "      <td>A00295401U6S2UG3RAQSZ</td>\n",
       "      <td>0792838084</td>\n",
       "      <td>1353196800</td>\n",
       "      <td>4</td>\n",
       "    </tr>\n",
       "    <tr>\n",
       "      <td>2</td>\n",
       "      <td>A00295401U6S2UG3RAQSZ</td>\n",
       "      <td>6304484054</td>\n",
       "      <td>1353196800</td>\n",
       "      <td>4</td>\n",
       "    </tr>\n",
       "    <tr>\n",
       "      <td>3</td>\n",
       "      <td>A00295401U6S2UG3RAQSZ</td>\n",
       "      <td>6305182205</td>\n",
       "      <td>1353196800</td>\n",
       "      <td>4</td>\n",
       "    </tr>\n",
       "    <tr>\n",
       "      <td>4</td>\n",
       "      <td>A00295401U6S2UG3RAQSZ</td>\n",
       "      <td>B00004W22I</td>\n",
       "      <td>1353196800</td>\n",
       "      <td>4</td>\n",
       "    </tr>\n",
       "  </tbody>\n",
       "</table>\n",
       "</div>"
      ],
      "text/plain": [
       "                    user        item   timestamp  rating\n",
       "0  A00295401U6S2UG3RAQSZ  0767015533  1353196800       4\n",
       "1  A00295401U6S2UG3RAQSZ  0792838084  1353196800       4\n",
       "2  A00295401U6S2UG3RAQSZ  6304484054  1353196800       4\n",
       "3  A00295401U6S2UG3RAQSZ  6305182205  1353196800       4\n",
       "4  A00295401U6S2UG3RAQSZ  B00004W22I  1353196800       4"
      ]
     },
     "execution_count": 5,
     "metadata": {},
     "output_type": "execute_result"
    }
   ],
   "source": [
    "df.sort_values(['user','timestamp'], ascending=[True,True], inplace=True)\n",
    "df.reset_index(inplace=True, drop=True)\n",
    "df.head()"
   ]
  },
  {
   "cell_type": "markdown",
   "metadata": {},
   "source": [
    "Let's map users and items to continuous integers"
   ]
  },
  {
   "cell_type": "code",
   "execution_count": 6,
   "metadata": {},
   "outputs": [],
   "source": [
    "def map_user_items(df):\n",
    "\n",
    "    dfc = df.copy()\n",
    "    user_mappings = {k:v for v,k in enumerate(dfc.user.unique())}\n",
    "    item_mappings = {k:v for v,k in enumerate(dfc.item.unique())}\n",
    "\n",
    "    user_list = pd.DataFrame.from_dict(user_mappings, orient='index').reset_index()\n",
    "    user_list.columns = ['orig_id', 'remap_id']\n",
    "    item_list = pd.DataFrame.from_dict(item_mappings, orient='index').reset_index()\n",
    "    item_list.columns = ['orig_id', 'remap_id']\n",
    "    user_list.to_csv(DATA_PATH/'user_list.txt', sep=\" \", index=False)\n",
    "    item_list.to_csv(DATA_PATH/'item_list.txt', sep=\" \", index=False)    \n",
    "\n",
    "    dfc['user'] = dfc['user'].map(user_mappings).astype(np.int64)\n",
    "    dfc['item'] = dfc['item'].map(item_mappings).astype(np.int64)\n",
    "        \n",
    "    return user_mappings, item_mappings, dfc"
   ]
  },
  {
   "cell_type": "code",
   "execution_count": 7,
   "metadata": {},
   "outputs": [
    {
     "data": {
      "text/html": [
       "<div>\n",
       "<style scoped>\n",
       "    .dataframe tbody tr th:only-of-type {\n",
       "        vertical-align: middle;\n",
       "    }\n",
       "\n",
       "    .dataframe tbody tr th {\n",
       "        vertical-align: top;\n",
       "    }\n",
       "\n",
       "    .dataframe thead th {\n",
       "        text-align: right;\n",
       "    }\n",
       "</style>\n",
       "<table border=\"1\" class=\"dataframe\">\n",
       "  <thead>\n",
       "    <tr style=\"text-align: right;\">\n",
       "      <th></th>\n",
       "      <th>user</th>\n",
       "      <th>item</th>\n",
       "      <th>timestamp</th>\n",
       "      <th>rating</th>\n",
       "    </tr>\n",
       "  </thead>\n",
       "  <tbody>\n",
       "    <tr>\n",
       "      <td>0</td>\n",
       "      <td>0</td>\n",
       "      <td>0</td>\n",
       "      <td>1353196800</td>\n",
       "      <td>4</td>\n",
       "    </tr>\n",
       "    <tr>\n",
       "      <td>1</td>\n",
       "      <td>0</td>\n",
       "      <td>1</td>\n",
       "      <td>1353196800</td>\n",
       "      <td>4</td>\n",
       "    </tr>\n",
       "    <tr>\n",
       "      <td>2</td>\n",
       "      <td>0</td>\n",
       "      <td>2</td>\n",
       "      <td>1353196800</td>\n",
       "      <td>4</td>\n",
       "    </tr>\n",
       "    <tr>\n",
       "      <td>3</td>\n",
       "      <td>0</td>\n",
       "      <td>3</td>\n",
       "      <td>1353196800</td>\n",
       "      <td>4</td>\n",
       "    </tr>\n",
       "    <tr>\n",
       "      <td>4</td>\n",
       "      <td>0</td>\n",
       "      <td>4</td>\n",
       "      <td>1353196800</td>\n",
       "      <td>4</td>\n",
       "    </tr>\n",
       "  </tbody>\n",
       "</table>\n",
       "</div>"
      ],
      "text/plain": [
       "   user  item   timestamp  rating\n",
       "0     0     0  1353196800       4\n",
       "1     0     1  1353196800       4\n",
       "2     0     2  1353196800       4\n",
       "3     0     3  1353196800       4\n",
       "4     0     4  1353196800       4"
      ]
     },
     "execution_count": 7,
     "metadata": {},
     "output_type": "execute_result"
    }
   ],
   "source": [
    "user_mappings, item_mappings, dfm = map_user_items(df)\n",
    "dfm.head()"
   ]
  },
  {
   "cell_type": "markdown",
   "metadata": {},
   "source": [
    "###  Train/Test split\n",
    "\n",
    "This split is designed to reproduce [Xiang Wang et al. 2019](https://arxiv.org/pdf/1905.08108.pdf) paper's format. "
   ]
  },
  {
   "cell_type": "code",
   "execution_count": 8,
   "metadata": {},
   "outputs": [],
   "source": [
    "df_ui = dfm[['user', 'item']]"
   ]
  },
  {
   "cell_type": "code",
   "execution_count": 9,
   "metadata": {},
   "outputs": [],
   "source": [
    "def f(df):\n",
    "    keys, values = df.sort_values('user').values.T\n",
    "    ukeys, index = np.unique(keys, True)\n",
    "    arrays = np.split(values, index[1:])\n",
    "    df2 = pd.DataFrame({'user':ukeys, 'item':[list(a) for a in arrays]})\n",
    "    return df2"
   ]
  },
  {
   "cell_type": "code",
   "execution_count": 10,
   "metadata": {},
   "outputs": [
    {
     "data": {
      "text/html": [
       "<div>\n",
       "<style scoped>\n",
       "    .dataframe tbody tr th:only-of-type {\n",
       "        vertical-align: middle;\n",
       "    }\n",
       "\n",
       "    .dataframe tbody tr th {\n",
       "        vertical-align: top;\n",
       "    }\n",
       "\n",
       "    .dataframe thead th {\n",
       "        text-align: right;\n",
       "    }\n",
       "</style>\n",
       "<table border=\"1\" class=\"dataframe\">\n",
       "  <thead>\n",
       "    <tr style=\"text-align: right;\">\n",
       "      <th></th>\n",
       "      <th>user</th>\n",
       "      <th>item</th>\n",
       "    </tr>\n",
       "  </thead>\n",
       "  <tbody>\n",
       "    <tr>\n",
       "      <td>0</td>\n",
       "      <td>0</td>\n",
       "      <td>[0, 1, 2, 3, 4, 5]</td>\n",
       "    </tr>\n",
       "    <tr>\n",
       "      <td>1</td>\n",
       "      <td>1</td>\n",
       "      <td>[6, 7, 8, 9, 10]</td>\n",
       "    </tr>\n",
       "    <tr>\n",
       "      <td>2</td>\n",
       "      <td>2</td>\n",
       "      <td>[20, 19, 18, 17, 16, 11, 14, 13, 12, 15]</td>\n",
       "    </tr>\n",
       "    <tr>\n",
       "      <td>3</td>\n",
       "      <td>3</td>\n",
       "      <td>[25, 24, 21, 22, 23]</td>\n",
       "    </tr>\n",
       "    <tr>\n",
       "      <td>4</td>\n",
       "      <td>4</td>\n",
       "      <td>[34, 32, 31, 30, 33, 28, 27, 26, 29]</td>\n",
       "    </tr>\n",
       "  </tbody>\n",
       "</table>\n",
       "</div>"
      ],
      "text/plain": [
       "   user                                      item\n",
       "0     0                        [0, 1, 2, 3, 4, 5]\n",
       "1     1                          [6, 7, 8, 9, 10]\n",
       "2     2  [20, 19, 18, 17, 16, 11, 14, 13, 12, 15]\n",
       "3     3                      [25, 24, 21, 22, 23]\n",
       "4     4      [34, 32, 31, 30, 33, 28, 27, 26, 29]"
      ]
     },
     "execution_count": 10,
     "metadata": {},
     "output_type": "execute_result"
    }
   ],
   "source": [
    "interactions_df = f(df_ui)\n",
    "interactions_df.head()"
   ]
  },
  {
   "cell_type": "markdown",
   "metadata": {},
   "source": [
    "The split strategy we will follow is: 80% training, 20% testing. \n",
    "\n",
    "Then, 10% of the training we'll be as validation to tune parameters. Once tuned, one would merge train+validation and re-train with the best performing params"
   ]
  },
  {
   "cell_type": "code",
   "execution_count": 11,
   "metadata": {},
   "outputs": [],
   "source": [
    "def train_test_split(u, i_l, p=0.8):\n",
    "    s = np.floor(len(i_l)*p).astype('int')\n",
    "    train = list(np.random.choice(i_l, s, replace=False))\n",
    "    test  = list(np.setdiff1d(i_l, train))\n",
    "    return ([u]+train, [u]+test)"
   ]
  },
  {
   "cell_type": "code",
   "execution_count": 12,
   "metadata": {
    "scrolled": true
   },
   "outputs": [],
   "source": [
    "interactions_l = [train_test_split(r['user'], r['item']) for i,r in interactions_df.iterrows()]"
   ]
  },
  {
   "cell_type": "code",
   "execution_count": 13,
   "metadata": {},
   "outputs": [],
   "source": [
    "train = [interactions_l[i][0] for i in range(len(interactions_l))]\n",
    "test =  [interactions_l[i][1] for i in range(len(interactions_l))]"
   ]
  },
  {
   "cell_type": "code",
   "execution_count": 14,
   "metadata": {},
   "outputs": [
    {
     "name": "stdout",
     "output_type": "stream",
     "text": [
      "[0, 5, 3, 1, 0] [0, 2, 4]\n"
     ]
    }
   ],
   "source": [
    "print(train[0], test[0])"
   ]
  },
  {
   "cell_type": "markdown",
   "metadata": {},
   "source": [
    "Now let's take 10% of the train (which was 80%) as validation"
   ]
  },
  {
   "cell_type": "code",
   "execution_count": 15,
   "metadata": {},
   "outputs": [],
   "source": [
    "tr_interactions_l = [train_test_split(t[0], t[1:], p=0.9) for t in train]"
   ]
  },
  {
   "cell_type": "code",
   "execution_count": 16,
   "metadata": {},
   "outputs": [],
   "source": [
    "train = [tr_interactions_l[i][0] for i in range(len(tr_interactions_l))]\n",
    "valid = [tr_interactions_l[i][1] for i in range(len(tr_interactions_l))]"
   ]
  },
  {
   "cell_type": "code",
   "execution_count": 17,
   "metadata": {},
   "outputs": [
    {
     "name": "stdout",
     "output_type": "stream",
     "text": [
      "[1, 6, 9, 10] [1, 8] [1, 7]\n"
     ]
    }
   ],
   "source": [
    "print(train[1], valid[1], test[1])"
   ]
  },
  {
   "cell_type": "code",
   "execution_count": 18,
   "metadata": {},
   "outputs": [
    {
     "name": "stdout",
     "output_type": "stream",
     "text": [
      "1 1\n"
     ]
    }
   ],
   "source": [
    "print(min([len(t[1:]) for t in test]), min([len(v[1:]) for v in valid]))"
   ]
  },
  {
   "cell_type": "code",
   "execution_count": 19,
   "metadata": {},
   "outputs": [],
   "source": [
    "train_fname = DATA_PATH/'train.txt'\n",
    "valid_fname = DATA_PATH/'valid.txt'\n",
    "test_fname = DATA_PATH/'test.txt'\n",
    "\n",
    "with open(train_fname, 'w') as trf, open(valid_fname, 'w') as vaf, open(test_fname, 'w') as tef:\n",
    "    trwrt = csv.writer(trf, delimiter=' ')\n",
    "    vawrt = csv.writer(vaf, delimiter=' ')\n",
    "    tewrt = csv.writer(tef, delimiter=' ')\n",
    "    trwrt.writerows(train)\n",
    "    vawrt.writerows(valid)\n",
    "    tewrt.writerows(test)"
   ]
  }
 ],
 "metadata": {
  "kernelspec": {
   "display_name": "Python 3",
   "language": "python",
   "name": "python3"
  },
  "language_info": {
   "codemirror_mode": {
    "name": "ipython",
    "version": 3
   },
   "file_extension": ".py",
   "mimetype": "text/x-python",
   "name": "python",
   "nbconvert_exporter": "python",
   "pygments_lexer": "ipython3",
   "version": "3.6.9"
  }
 },
 "nbformat": 4,
 "nbformat_minor": 2
}
